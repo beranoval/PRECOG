{
 "cells": [
  {
   "cell_type": "markdown",
   "metadata": {},
   "source": [
    "# Prediction relevance of article of future year \n"
   ]
  },
  {
   "cell_type": "markdown",
   "metadata": {},
   "source": [
    "### Packages"
   ]
  },
  {
   "cell_type": "code",
   "execution_count": 1,
   "metadata": {},
   "outputs": [],
   "source": [
    "%load_ext autoreload\n",
    "%autoreload 2"
   ]
  },
  {
   "cell_type": "code",
   "execution_count": 2,
   "metadata": {},
   "outputs": [
    {
     "name": "stdout",
     "output_type": "stream",
     "text": [
      "4.2.0\n"
     ]
    }
   ],
   "source": [
    "import functions    # my own functions which are used in more notebooks\n",
    "import pandas as pd\n",
    "import seaborn as sns\n",
    "import matplotlib.pyplot as plt\n",
    "import warnings\n",
    "import numpy as np\n",
    "import tqdm\n",
    "import math\n",
    "import kds\n",
    "import pickle\n",
    "from tqdm import tqdm\n",
    "from scipy.sparse import csr_matrix\n",
    "from sklearn.feature_extraction.text import CountVectorizer\n",
    "from sklearn.linear_model import LogisticRegression\n",
    "from sklearn.model_selection import train_test_split, GridSearchCV, RepeatedStratifiedKFold\n",
    "import gensim\n",
    "print((gensim.__version__))  \n",
    "from gensim.models import Word2Vec\n",
    "import gensim.downloader as api\n",
    "from gensim.models import KeyedVectors\n",
    "warnings.filterwarnings('ignore')\n",
    "from sklearn.metrics import roc_curve, auc, roc_auc_score,classification_report, accuracy_score,precision_score,recall_score\n",
    "from re import search\n",
    "from sklearn.ensemble import RandomForestClassifier\n",
    "from itertools import chain"
   ]
  },
  {
   "cell_type": "markdown",
   "metadata": {},
   "source": [
    "## Upload cleaned abstracts"
   ]
  },
  {
   "cell_type": "code",
   "execution_count": 3,
   "metadata": {},
   "outputs": [],
   "source": [
    "df_all = pd.read_csv(\"1.Preprocessing_outputs/df_sw_tok_low_punc_lemm_v7.csv\").rename(columns = {'doi_x':'doi'}).set_index(\"doi\")"
   ]
  },
  {
   "cell_type": "code",
   "execution_count": 4,
   "metadata": {},
   "outputs": [
    {
     "data": {
      "text/plain": [
       "476175"
      ]
     },
     "execution_count": 4,
     "metadata": {},
     "output_type": "execute_result"
    }
   ],
   "source": [
    "len(df_all)"
   ]
  },
  {
   "cell_type": "code",
   "execution_count": 5,
   "metadata": {},
   "outputs": [
    {
     "data": {
      "text/html": [
       "<div>\n",
       "<style scoped>\n",
       "    .dataframe tbody tr th:only-of-type {\n",
       "        vertical-align: middle;\n",
       "    }\n",
       "\n",
       "    .dataframe tbody tr th {\n",
       "        vertical-align: top;\n",
       "    }\n",
       "\n",
       "    .dataframe thead th {\n",
       "        text-align: right;\n",
       "    }\n",
       "</style>\n",
       "<table border=\"1\" class=\"dataframe\">\n",
       "  <thead>\n",
       "    <tr style=\"text-align: right;\">\n",
       "      <th></th>\n",
       "      <th>Unnamed: 0</th>\n",
       "      <th>Year</th>\n",
       "      <th>Month</th>\n",
       "      <th>abstract</th>\n",
       "      <th>cord_uid</th>\n",
       "      <th>journal</th>\n",
       "      <th>license</th>\n",
       "      <th>authors</th>\n",
       "      <th>len</th>\n",
       "      <th>language</th>\n",
       "      <th>abstract_cleaned</th>\n",
       "    </tr>\n",
       "    <tr>\n",
       "      <th>doi</th>\n",
       "      <th></th>\n",
       "      <th></th>\n",
       "      <th></th>\n",
       "      <th></th>\n",
       "      <th></th>\n",
       "      <th></th>\n",
       "      <th></th>\n",
       "      <th></th>\n",
       "      <th></th>\n",
       "      <th></th>\n",
       "      <th></th>\n",
       "    </tr>\n",
       "  </thead>\n",
       "  <tbody>\n",
       "    <tr>\n",
       "      <th>10.1186/1471-2334-1-6</th>\n",
       "      <td>0</td>\n",
       "      <td>2001.0</td>\n",
       "      <td>7.0</td>\n",
       "      <td>OBJECTIVE: This retrospective chart review des...</td>\n",
       "      <td>ug7v899j</td>\n",
       "      <td>BMC Infect Dis</td>\n",
       "      <td>no-cc</td>\n",
       "      <td>Madani, Tariq A; Al-Ghamdi, Aisha A</td>\n",
       "      <td>1158</td>\n",
       "      <td>en</td>\n",
       "      <td>retrospective chart review describes epidemiol...</td>\n",
       "    </tr>\n",
       "    <tr>\n",
       "      <th>10.1186/rr14</th>\n",
       "      <td>1</td>\n",
       "      <td>2000.0</td>\n",
       "      <td>8.0</td>\n",
       "      <td>Inflammatory diseases of the respiratory tract...</td>\n",
       "      <td>02tnwd4m</td>\n",
       "      <td>Respir Res</td>\n",
       "      <td>no-cc</td>\n",
       "      <td>Vliet, Albert van der; Eiserich, Jason P; Cros...</td>\n",
       "      <td>718</td>\n",
       "      <td>en</td>\n",
       "      <td>inflammatory disease respiratory tract commonl...</td>\n",
       "    </tr>\n",
       "  </tbody>\n",
       "</table>\n",
       "</div>"
      ],
      "text/plain": [
       "                       Unnamed: 0    Year  Month  \\\n",
       "doi                                                \n",
       "10.1186/1471-2334-1-6           0  2001.0    7.0   \n",
       "10.1186/rr14                    1  2000.0    8.0   \n",
       "\n",
       "                                                                abstract  \\\n",
       "doi                                                                        \n",
       "10.1186/1471-2334-1-6  OBJECTIVE: This retrospective chart review des...   \n",
       "10.1186/rr14           Inflammatory diseases of the respiratory tract...   \n",
       "\n",
       "                       cord_uid         journal license  \\\n",
       "doi                                                       \n",
       "10.1186/1471-2334-1-6  ug7v899j  BMC Infect Dis   no-cc   \n",
       "10.1186/rr14           02tnwd4m      Respir Res   no-cc   \n",
       "\n",
       "                                                                 authors  \\\n",
       "doi                                                                        \n",
       "10.1186/1471-2334-1-6                Madani, Tariq A; Al-Ghamdi, Aisha A   \n",
       "10.1186/rr14           Vliet, Albert van der; Eiserich, Jason P; Cros...   \n",
       "\n",
       "                        len language  \\\n",
       "doi                                    \n",
       "10.1186/1471-2334-1-6  1158       en   \n",
       "10.1186/rr14            718       en   \n",
       "\n",
       "                                                        abstract_cleaned  \n",
       "doi                                                                       \n",
       "10.1186/1471-2334-1-6  retrospective chart review describes epidemiol...  \n",
       "10.1186/rr14           inflammatory disease respiratory tract commonl...  "
      ]
     },
     "execution_count": 5,
     "metadata": {},
     "output_type": "execute_result"
    }
   ],
   "source": [
    "df_all.head(2)"
   ]
  },
  {
   "cell_type": "markdown",
   "metadata": {},
   "source": [
    "## Parameters"
   ]
  },
  {
   "cell_type": "code",
   "execution_count": 6,
   "metadata": {},
   "outputs": [],
   "source": [
    "train_year_of_citations = 2021\n",
    "\n",
    "# which articles based on year of publication will be selected for training and testing\n",
    "min_train_year_published = 2019\n",
    "max_train_year_published = 2020\n",
    "min_pred_year_published = 2021\n",
    "max_pred_year_published = 2022\n",
    "\n",
    "embeddings_from_year = 2019\n",
    "embeddings_to_year = 2022\n",
    "\n",
    "classifier = \"lr\"  # or \"rf\""
   ]
  },
  {
   "cell_type": "markdown",
   "metadata": {},
   "source": [
    "# Add target flag for dataframe with dois"
   ]
  },
  {
   "cell_type": "code",
   "execution_count": 7,
   "metadata": {},
   "outputs": [
    {
     "name": "stderr",
     "output_type": "stream",
     "text": [
      "b'Skipping line 171761: expected 5 fields, saw 8\\nSkipping line 208878: expected 5 fields, saw 8\\n'\n"
     ]
    },
    {
     "name": "stdout",
     "output_type": "stream",
     "text": [
      "0    8576\n",
      "1    4996\n",
      "Name: target, dtype: int64\n",
      "13572\n",
      "9277\n",
      "281752\n"
     ]
    }
   ],
   "source": [
    "train_df = functions.add_target_opencitatins_marginal(target_year = train_year_of_citations,df = df_all,target_col_name=\"target\")\n",
    "\n",
    "train_df = train_df[(df_all['Year']<=max_train_year_published) & (df_all['Year']>=min_train_year_published)] \n",
    "print(len(train_df))\n",
    "\n",
    "predict_df = df_all[(df_all['Year']<=max_pred_year_published) & (df_all['Year']>=min_pred_year_published)]\n",
    "#predict_df = df_all\n",
    "print(len(predict_df))"
   ]
  },
  {
   "cell_type": "code",
   "execution_count": 10,
   "metadata": {},
   "outputs": [],
   "source": [
    "### Random sample of 1000 articles \n",
    "\n",
    "predict_df.sample(1000).to_csv(\"random_samp_1000_articles.csv\")"
   ]
  },
  {
   "cell_type": "markdown",
   "metadata": {},
   "source": [
    "# BOW + CF"
   ]
  },
  {
   "cell_type": "markdown",
   "metadata": {},
   "source": [
    "### Features - BOW Binary input matrix"
   ]
  },
  {
   "cell_type": "code",
   "execution_count": 8,
   "metadata": {},
   "outputs": [
    {
     "name": "stdout",
     "output_type": "stream",
     "text": [
      "(9277, 36269)\n"
     ]
    }
   ],
   "source": [
    "cvec = CountVectorizer(analyzer = \"word\", tokenizer=lambda txt: txt.split(), \n",
    "                       ngram_range=(1,1),\n",
    "                       binary= True,\n",
    "                       min_df = 1) \n",
    "\n",
    "matrix_bow_train = cvec.fit_transform(train_df['abstract_cleaned'])\n",
    "tokens_bow_train = cvec.get_feature_names()\n",
    "\n",
    "with open('3.Classifiers_outputs/train_'+str(train_year_of_citations)+'/tokens_bow_'+str(train_year_of_citations)+'.data', 'wb') as filehandle:\n",
    "    pickle.dump(tokens_bow_train, filehandle)\n",
    "    \n",
    "matrix_bow_train_pd = pd.DataFrame.sparse.from_spmatrix(matrix_bow_train, columns = tokens_bow_train)\n",
    "matrix_bow_train_pd = matrix_bow_train_pd[sorted(matrix_bow_train_pd.columns)]\n",
    "print(matrix_bow_train.shape)"
   ]
  },
  {
   "cell_type": "code",
   "execution_count": 9,
   "metadata": {},
   "outputs": [
    {
     "name": "stdout",
     "output_type": "stream",
     "text": [
      "281752\n"
     ]
    },
    {
     "name": "stderr",
     "output_type": "stream",
     "text": [
      "100%|██████████| 48/48 [00:00<00:00, 344.10it/s]\n"
     ]
    },
    {
     "name": "stdout",
     "output_type": "stream",
     "text": [
      "36269\n"
     ]
    }
   ],
   "source": [
    "# for predicting we need to have the same features like in training, not new, not less ! \n",
    "matrix_bow_test = cvec.fit_transform(predict_df['abstract_cleaned'])\n",
    "tokens_bow_test = cvec.get_feature_names()\n",
    "matrix_bow_test_pd = pd.DataFrame.sparse.from_spmatrix(matrix_bow_test, columns = tokens_bow_test)\n",
    "print(len(matrix_bow_test_pd))\n",
    "\n",
    "not_in_test = np.setdiff1d(tokens_bow_train,tokens_bow_test)\n",
    "columns_in_both = list(set(tokens_bow_train) & set(tokens_bow_test))\n",
    "matrix_bow_test_pd_without_new_col = matrix_bow_test_pd[columns_in_both]\n",
    "\n",
    "for col in tqdm(not_in_test): \n",
    "    matrix_bow_test_pd_without_new_col[col] =  np.nan\n",
    "print(len(matrix_bow_test_pd_without_new_col.columns))\n",
    "\n",
    "matrix_bow_test_pd = matrix_bow_test_pd_without_new_col.fillna(0)\n",
    "matrix_bow_test_pd = matrix_bow_test_pd[sorted(matrix_bow_test_pd.columns)]"
   ]
  },
  {
   "cell_type": "code",
   "execution_count": 10,
   "metadata": {},
   "outputs": [],
   "source": [
    "X_train_bow = matrix_bow_train_pd\n",
    "y_train_bow = train_df.target"
   ]
  },
  {
   "cell_type": "markdown",
   "metadata": {},
   "source": [
    "#  Classifier"
   ]
  },
  {
   "cell_type": "code",
   "execution_count": 11,
   "metadata": {},
   "outputs": [],
   "source": [
    "if classifier == \"lr\":\n",
    "    cf_bow_splitted_train = LogisticRegression(random_state=0, penalty = \"l1\",solver = \"saga\").fit(X_train_bow, y_train_bow)\n",
    "    pickle.dump(cf_bow_splitted_train, open('3.Classifiers_outputs/train_'+str(train_year_of_citations)+'/lreg_bow_'+str(train_year_of_citations)+'.sav', 'wb'))\n",
    "\n",
    "if classifier == \"rf\":\n",
    "    cf_bow_splitted_train = RandomForestClassifier(random_state=0).fit(X_train_bow, y_train_bow)\n",
    "    pickle.dump(cf_bow_splitted_train, open('3.Classifiers_outputs/train_'+str(train_year_of_citations)+'/rf_bow_'+str(train_year_of_citations)+'.sav', 'wb'))\n",
    "    \n",
    "y_pred_bow_test = cf_bow_splitted_train.predict_proba(matrix_bow_test_pd)[:,1]"
   ]
  },
  {
   "cell_type": "markdown",
   "metadata": {},
   "source": [
    "### Articles with highest score"
   ]
  },
  {
   "cell_type": "code",
   "execution_count": 12,
   "metadata": {},
   "outputs": [
    {
     "data": {
      "text/html": [
       "<div>\n",
       "<style scoped>\n",
       "    .dataframe tbody tr th:only-of-type {\n",
       "        vertical-align: middle;\n",
       "    }\n",
       "\n",
       "    .dataframe tbody tr th {\n",
       "        vertical-align: top;\n",
       "    }\n",
       "\n",
       "    .dataframe thead th {\n",
       "        text-align: right;\n",
       "    }\n",
       "</style>\n",
       "<table border=\"1\" class=\"dataframe\">\n",
       "  <thead>\n",
       "    <tr style=\"text-align: right;\">\n",
       "      <th></th>\n",
       "      <th>score</th>\n",
       "      <th>doi</th>\n",
       "      <th>Year</th>\n",
       "    </tr>\n",
       "  </thead>\n",
       "  <tbody>\n",
       "    <tr>\n",
       "      <th>789</th>\n",
       "      <td>0.997247</td>\n",
       "      <td>10.1186/s12943-021-01310-0</td>\n",
       "      <td>2021.0</td>\n",
       "    </tr>\n",
       "    <tr>\n",
       "      <th>82</th>\n",
       "      <td>0.994012</td>\n",
       "      <td>10.1038/s41467-020-20544-y</td>\n",
       "      <td>2021.0</td>\n",
       "    </tr>\n",
       "    <tr>\n",
       "      <th>3339</th>\n",
       "      <td>0.990473</td>\n",
       "      <td>10.1186/s12199-021-00995-5</td>\n",
       "      <td>2021.0</td>\n",
       "    </tr>\n",
       "    <tr>\n",
       "      <th>1350</th>\n",
       "      <td>0.989359</td>\n",
       "      <td>10.3324/haematol.2020.262485</td>\n",
       "      <td>2021.0</td>\n",
       "    </tr>\n",
       "    <tr>\n",
       "      <th>3080</th>\n",
       "      <td>0.989093</td>\n",
       "      <td>10.1111/psyp.13796</td>\n",
       "      <td>2021.0</td>\n",
       "    </tr>\n",
       "  </tbody>\n",
       "</table>\n",
       "</div>"
      ],
      "text/plain": [
       "         score                           doi    Year\n",
       "789   0.997247    10.1186/s12943-021-01310-0  2021.0\n",
       "82    0.994012    10.1038/s41467-020-20544-y  2021.0\n",
       "3339  0.990473    10.1186/s12199-021-00995-5  2021.0\n",
       "1350  0.989359  10.3324/haematol.2020.262485  2021.0\n",
       "3080  0.989093            10.1111/psyp.13796  2021.0"
      ]
     },
     "execution_count": 12,
     "metadata": {},
     "output_type": "execute_result"
    }
   ],
   "source": [
    "high_score_art_lr_bow = pd.DataFrame(list(zip(list(y_pred_bow_test), list(train_df.abstract.values),list(train_df.abstract_cleaned.values),list(predict_df.index),list(predict_df.Year.values) )),columns =[\"score\",\"abstract\",\"abstract_cleaned\",\"doi\",\"Year\"])\n",
    "high_score_art_lr_bow = high_score_art_lr_bow.sort_values(\"score\",ascending=False)\n",
    "high_score_art_lr_bow[[\"score\",\"doi\",\"Year\"]][:5]"
   ]
  },
  {
   "cell_type": "code",
   "execution_count": 13,
   "metadata": {},
   "outputs": [
    {
     "data": {
      "text/plain": [
       "9277"
      ]
     },
     "execution_count": 13,
     "metadata": {},
     "output_type": "execute_result"
    }
   ],
   "source": [
    "len(high_score_art_lr_bow)"
   ]
  },
  {
   "cell_type": "markdown",
   "metadata": {},
   "source": [
    "### add info "
   ]
  },
  {
   "cell_type": "code",
   "execution_count": 14,
   "metadata": {},
   "outputs": [],
   "source": [
    "df_all = df_all.reset_index()"
   ]
  },
  {
   "cell_type": "code",
   "execution_count": 15,
   "metadata": {},
   "outputs": [],
   "source": [
    "score_df = high_score_art_lr_bow.merge(df_all[[\"doi\",\"authors\",\"journal\"]],on=\"doi\",how=\"left\")"
   ]
  },
  {
   "cell_type": "markdown",
   "metadata": {},
   "source": [
    "### Add n most important words \n",
    "\n",
    "- vybírám maximum odds ratio - tedy jen slova která ZVYŠUJÍ P to be highly cited."
   ]
  },
  {
   "cell_type": "code",
   "execution_count": 16,
   "metadata": {},
   "outputs": [],
   "source": [
    "score_df[\"abstract_cleaned_tok\"] = functions.tokenized_column(score_df[\"abstract_cleaned\"])\n",
    "\n",
    "feature_importance = functions.importance_lr_bow(tokens_bow_train,cf_bow_splitted_train,n=len(tokens_bow_train),odds_ratio = False)\n",
    "#feature_importance[\"score_abs\"] = abs(feature_importance[\"score\"])\n",
    "fi_dict = dict(zip(feature_importance.word,feature_importance.score))\n",
    "\n",
    "n=10\n",
    "row_list = []\n",
    "for row in list(range(0,len(score_df.abstract_cleaned_tok))): \n",
    "    words_abstract = list(chain.from_iterable(list(score_df.abstract_cleaned_tok[row:row+1])))\n",
    "    words_abstract_score = dict(((key, fi_dict[key]) for key in words_abstract))\n",
    "    words_abstract_score_sort = dict(sorted(words_abstract_score.items(), key=lambda item: item[1],reverse=True)) \n",
    "    \n",
    "    top_n = {k: words_abstract_score_sort[k] for k in list(words_abstract_score_sort)[:n]}\n",
    "    \n",
    "    #round values in dictionary\n",
    "    res = dict()\n",
    "    for key in top_n:  \n",
    "        res[key] = round(top_n[key], 2)\n",
    "    row_list.append(res)\n",
    "    \n",
    "score_df[\"top_n_words\"] = row_list"
   ]
  },
  {
   "cell_type": "code",
   "execution_count": 17,
   "metadata": {},
   "outputs": [],
   "source": [
    "score_df.to_csv(\"final_articles_score_table_bow.csv\")"
   ]
  },
  {
   "cell_type": "code",
   "execution_count": 18,
   "metadata": {},
   "outputs": [
    {
     "data": {
      "text/html": [
       "<div>\n",
       "<style scoped>\n",
       "    .dataframe tbody tr th:only-of-type {\n",
       "        vertical-align: middle;\n",
       "    }\n",
       "\n",
       "    .dataframe tbody tr th {\n",
       "        vertical-align: top;\n",
       "    }\n",
       "\n",
       "    .dataframe thead th {\n",
       "        text-align: right;\n",
       "    }\n",
       "</style>\n",
       "<table border=\"1\" class=\"dataframe\">\n",
       "  <thead>\n",
       "    <tr style=\"text-align: right;\">\n",
       "      <th></th>\n",
       "      <th>doi</th>\n",
       "      <th>score</th>\n",
       "      <th>Year</th>\n",
       "      <th>authors</th>\n",
       "      <th>journal</th>\n",
       "      <th>top_n_words</th>\n",
       "    </tr>\n",
       "  </thead>\n",
       "  <tbody>\n",
       "    <tr>\n",
       "      <th>0</th>\n",
       "      <td>10.1186/s12943-021-01310-0</td>\n",
       "      <td>0.997247</td>\n",
       "      <td>2021.0</td>\n",
       "      <td>Huang, Xing; Zhang, Gang; Tang, Tianyu; Liang, Tingbo</td>\n",
       "      <td>Mol Cancer</td>\n",
       "      <td>{'in-silico': 0.78, 'non-structural': 0.56, 'antiviral': 0.45, 'carried': 0.32, 'entire': 0.31, 'best': 0.3, 'towards': 0.27, 'spike': 0.26, 'receptor': 0.24, 'chinese': 0.23}</td>\n",
       "    </tr>\n",
       "    <tr>\n",
       "      <th>1</th>\n",
       "      <td>10.1038/s41467-020-20544-y</td>\n",
       "      <td>0.994012</td>\n",
       "      <td>2021.0</td>\n",
       "      <td>Mistry, Dina; Litvinova, Maria; Pastore y Piontti, Ana; Chinazzi, Matteo; Fumanelli, Laura; Gomes, Marcelo F. C.; Haque, Syed A.; Liu, Quan-Hui; Mu, Kunpeng; Xiong, Xinyue; Halloran, M. Elizabeth; Longini, Ira M.; Merler, Stefano; Ajelli, Marco; Vespignani, Alessandro</td>\n",
       "      <td>Nat Commun</td>\n",
       "      <td>{'unfolded': 0.61, 'jnk': 0.31, 'component': 0.29, 'degradation': 0.25, 'support': 0.22, 'type': 0.22, 'virus': 0.21, 'translocation': 0.19, 'chop': 0.17, 'severe': 0.12}</td>\n",
       "    </tr>\n",
       "    <tr>\n",
       "      <th>2</th>\n",
       "      <td>10.1186/s12199-021-00995-5</td>\n",
       "      <td>0.990473</td>\n",
       "      <td>2021.0</td>\n",
       "      <td>Johnson, Natalie M.; Hoffmann, Aline Rodrigues; Behlen, Jonathan C.; Lau, Carmen; Pendleton, Drew; Harvey, Navada; Shore, Ross; Li, Yixin; Chen, Jingshu; Tian, Yanan; Zhang, Renyi</td>\n",
       "      <td>Environ Health Prev Med</td>\n",
       "      <td>{'sequenced': 0.89, 'forecasting': 0.77, 'ten': 0.57, 'collection': 0.51, 'recombinant': 0.47, 'detecting': 0.25, 'thousand': 0.22, 'appear': 0.21, 'virus': 0.21, 'scenario': 0.16}</td>\n",
       "    </tr>\n",
       "    <tr>\n",
       "      <th>3</th>\n",
       "      <td>10.3324/haematol.2020.262485</td>\n",
       "      <td>0.989359</td>\n",
       "      <td>2021.0</td>\n",
       "      <td>Di Buduo, Christian A.; Aguilar, Alicia; Soprano, Paolo M.; Bocconi, Alberto; Miguel, Carolina P.; Mantica, Giovanna; Balduini, Alessandra</td>\n",
       "      <td>Haematologica</td>\n",
       "      <td>{'allocation': 0.57, 'limitation': 0.48, 'short-term': 0.39, 'appropriately': 0.34, 'comorbidities': 0.28, 'outcome': 0.24, 'make': 0.22, 'score': 0.22, 'covid-19': 0.22, 'necessary': 0.21}</td>\n",
       "    </tr>\n",
       "    <tr>\n",
       "      <th>4</th>\n",
       "      <td>10.1111/psyp.13796</td>\n",
       "      <td>0.989093</td>\n",
       "      <td>2021.0</td>\n",
       "      <td>Zimmerman, Benjamin; Rypma, Bart; Gratton, Gabriele; Fabiani, Monica</td>\n",
       "      <td>Psychophysiology</td>\n",
       "      <td>{'chemistry': 0.78, 'humidity': 0.49, 'across': 0.46, 'air': 0.39, 'sensor': 0.35, 'potentially': 0.26, 'covid-19': 0.22, 'movement': 0.21, 'interaction': 0.2, 'reflect': 0.13}</td>\n",
       "    </tr>\n",
       "    <tr>\n",
       "      <th>5</th>\n",
       "      <td>10.3390/bios11080253</td>\n",
       "      <td>0.987647</td>\n",
       "      <td>2021.0</td>\n",
       "      <td>Taha, Bakr Ahmed; Ali, Norazida; Sapiee, Nurfarhana Mohamad; Fadhel, Mahmoud Muhanad; Mat Yeh, Ros Maria; Bachok, Nur Nadia; Al Mashhadany, Yousif; Arsad, Norhana</td>\n",
       "      <td>Biosensors (Basel)</td>\n",
       "      <td>{'averaged': 0.57, 'greatest': 0.53, 'january': 0.47, 'pollution': 0.42, 'established': 0.4, 'quarantine': 0.39, 'air': 0.39, 'china': 0.33, 'particulate': 0.32, 'approximately': 0.32}</td>\n",
       "    </tr>\n",
       "    <tr>\n",
       "      <th>6</th>\n",
       "      <td>10.1038/s42003-021-02706-w</td>\n",
       "      <td>0.985561</td>\n",
       "      <td>2021.0</td>\n",
       "      <td>Natu, Vaidehi S.; Rosenke, Mona; Wu, Hua; Querdasi, Francesca R.; Kular, Holly; Lopez-Alvarez, Nancy; Grotheer, Mareike; Berman, Shai; Mezer, Aviv A.; Grill-Spector, Kalanit</td>\n",
       "      <td>Commun Biol</td>\n",
       "      <td>{'recovered': 0.51, 'igm': 0.49, 'perinatal': 0.46, 'polymerase': 0.42, 'critically': 0.32, 'completed': 0.29, 'potentially': 0.26, 'spike': 0.26, 'antibody': 0.25, 'receptor': 0.24}</td>\n",
       "    </tr>\n",
       "    <tr>\n",
       "      <th>7</th>\n",
       "      <td>10.1186/s13059-021-02363-6</td>\n",
       "      <td>0.985524</td>\n",
       "      <td>2021.0</td>\n",
       "      <td>Ho, Won Jin; Erbe, Rossin; Danilova, Ludmila; Phyo, Zaw; Bigelow, Emma; Stein-O’Brien, Genevieve; Thomas, Dwayne L.; Charmsaz, Soren; Gross, Nicole; Woolman, Skylar; Cruz, Kayla; Munday, Rebecca M.; Zaidi, Neeha; Armstrong, Todd D.; Sztein, Marcelo B.; Yarchoan, Mark; Thompson, Elizabeth D.; Jaffee, Elizabeth M.; Fertig, Elana J.</td>\n",
       "      <td>Genome Biol</td>\n",
       "      <td>{'checklist': 0.84, 'urgently': 0.75, 'guiding': 0.69, 'finally': 0.65, 'mostly': 0.52, 'systematic': 0.42, 'ovid': 0.36, 'diagnosing': 0.34, 'pubmed': 0.34, 'probably': 0.33}</td>\n",
       "    </tr>\n",
       "    <tr>\n",
       "      <th>8</th>\n",
       "      <td>10.1371/journal.pone.0258333</td>\n",
       "      <td>0.985388</td>\n",
       "      <td>2021.0</td>\n",
       "      <td>Velten, Julia; Scholten, Saskia; Brailovskaia, Julia; Margraf, Jürgen</td>\n",
       "      <td>PLoS One</td>\n",
       "      <td>{'chloroquine': 0.58, 'antiviral': 0.45, 'phenotype': 0.45, 'mixture': 0.4, 'statistically': 0.39, 'ongoing': 0.36, 'best': 0.3, 'criterion': 0.29, 'prospective': 0.29, 'society': 0.28}</td>\n",
       "    </tr>\n",
       "    <tr>\n",
       "      <th>9</th>\n",
       "      <td>10.1038/s41467-021-24885-0</td>\n",
       "      <td>0.984414</td>\n",
       "      <td>2021.0</td>\n",
       "      <td>Salehinejad, Mohammad Ali; Wischnewski, Miles; Ghanavati, Elham; Mosayebi-Samani, Mohsen; Kuo, Min-Fang; Nitsche, Michael A.</td>\n",
       "      <td>Nat Commun</td>\n",
       "      <td>{'kinetics': 0.43, 'dataset': 0.37, 'crp': 0.36, 'interpretation': 0.34, 'carried': 0.32, 'rather': 0.31, 'stage': 0.29, 'serial': 0.26, 'retrospective': 0.25, 'outcome': 0.24}</td>\n",
       "    </tr>\n",
       "  </tbody>\n",
       "</table>\n",
       "</div>"
      ],
      "text/plain": [
       "                            doi     score    Year  \\\n",
       "0    10.1186/s12943-021-01310-0  0.997247  2021.0   \n",
       "1    10.1038/s41467-020-20544-y  0.994012  2021.0   \n",
       "2    10.1186/s12199-021-00995-5  0.990473  2021.0   \n",
       "3  10.3324/haematol.2020.262485  0.989359  2021.0   \n",
       "4            10.1111/psyp.13796  0.989093  2021.0   \n",
       "5          10.3390/bios11080253  0.987647  2021.0   \n",
       "6    10.1038/s42003-021-02706-w  0.985561  2021.0   \n",
       "7    10.1186/s13059-021-02363-6  0.985524  2021.0   \n",
       "8  10.1371/journal.pone.0258333  0.985388  2021.0   \n",
       "9    10.1038/s41467-021-24885-0  0.984414  2021.0   \n",
       "\n",
       "                                                                                                                                                                                                                                                                                                                                       authors  \\\n",
       "0                                                                                                                                                                                                                                                                                        Huang, Xing; Zhang, Gang; Tang, Tianyu; Liang, Tingbo   \n",
       "1                                                                 Mistry, Dina; Litvinova, Maria; Pastore y Piontti, Ana; Chinazzi, Matteo; Fumanelli, Laura; Gomes, Marcelo F. C.; Haque, Syed A.; Liu, Quan-Hui; Mu, Kunpeng; Xiong, Xinyue; Halloran, M. Elizabeth; Longini, Ira M.; Merler, Stefano; Ajelli, Marco; Vespignani, Alessandro   \n",
       "2                                                                                                                                                          Johnson, Natalie M.; Hoffmann, Aline Rodrigues; Behlen, Jonathan C.; Lau, Carmen; Pendleton, Drew; Harvey, Navada; Shore, Ross; Li, Yixin; Chen, Jingshu; Tian, Yanan; Zhang, Renyi   \n",
       "3                                                                                                                                                                                                   Di Buduo, Christian A.; Aguilar, Alicia; Soprano, Paolo M.; Bocconi, Alberto; Miguel, Carolina P.; Mantica, Giovanna; Balduini, Alessandra   \n",
       "4                                                                                                                                                                                                                                                                         Zimmerman, Benjamin; Rypma, Bart; Gratton, Gabriele; Fabiani, Monica   \n",
       "5                                                                                                                                                                           Taha, Bakr Ahmed; Ali, Norazida; Sapiee, Nurfarhana Mohamad; Fadhel, Mahmoud Muhanad; Mat Yeh, Ros Maria; Bachok, Nur Nadia; Al Mashhadany, Yousif; Arsad, Norhana   \n",
       "6                                                                                                                                                                Natu, Vaidehi S.; Rosenke, Mona; Wu, Hua; Querdasi, Francesca R.; Kular, Holly; Lopez-Alvarez, Nancy; Grotheer, Mareike; Berman, Shai; Mezer, Aviv A.; Grill-Spector, Kalanit   \n",
       "7  Ho, Won Jin; Erbe, Rossin; Danilova, Ludmila; Phyo, Zaw; Bigelow, Emma; Stein-O’Brien, Genevieve; Thomas, Dwayne L.; Charmsaz, Soren; Gross, Nicole; Woolman, Skylar; Cruz, Kayla; Munday, Rebecca M.; Zaidi, Neeha; Armstrong, Todd D.; Sztein, Marcelo B.; Yarchoan, Mark; Thompson, Elizabeth D.; Jaffee, Elizabeth M.; Fertig, Elana J.   \n",
       "8                                                                                                                                                                                                                                                                        Velten, Julia; Scholten, Saskia; Brailovskaia, Julia; Margraf, Jürgen   \n",
       "9                                                                                                                                                                                                                 Salehinejad, Mohammad Ali; Wischnewski, Miles; Ghanavati, Elham; Mosayebi-Samani, Mohsen; Kuo, Min-Fang; Nitsche, Michael A.   \n",
       "\n",
       "                   journal  \\\n",
       "0               Mol Cancer   \n",
       "1               Nat Commun   \n",
       "2  Environ Health Prev Med   \n",
       "3            Haematologica   \n",
       "4         Psychophysiology   \n",
       "5       Biosensors (Basel)   \n",
       "6              Commun Biol   \n",
       "7              Genome Biol   \n",
       "8                 PLoS One   \n",
       "9               Nat Commun   \n",
       "\n",
       "                                                                                                                                                                                     top_n_words  \n",
       "0                {'in-silico': 0.78, 'non-structural': 0.56, 'antiviral': 0.45, 'carried': 0.32, 'entire': 0.31, 'best': 0.3, 'towards': 0.27, 'spike': 0.26, 'receptor': 0.24, 'chinese': 0.23}  \n",
       "1                     {'unfolded': 0.61, 'jnk': 0.31, 'component': 0.29, 'degradation': 0.25, 'support': 0.22, 'type': 0.22, 'virus': 0.21, 'translocation': 0.19, 'chop': 0.17, 'severe': 0.12}  \n",
       "2           {'sequenced': 0.89, 'forecasting': 0.77, 'ten': 0.57, 'collection': 0.51, 'recombinant': 0.47, 'detecting': 0.25, 'thousand': 0.22, 'appear': 0.21, 'virus': 0.21, 'scenario': 0.16}  \n",
       "3  {'allocation': 0.57, 'limitation': 0.48, 'short-term': 0.39, 'appropriately': 0.34, 'comorbidities': 0.28, 'outcome': 0.24, 'make': 0.22, 'score': 0.22, 'covid-19': 0.22, 'necessary': 0.21}  \n",
       "4               {'chemistry': 0.78, 'humidity': 0.49, 'across': 0.46, 'air': 0.39, 'sensor': 0.35, 'potentially': 0.26, 'covid-19': 0.22, 'movement': 0.21, 'interaction': 0.2, 'reflect': 0.13}  \n",
       "5       {'averaged': 0.57, 'greatest': 0.53, 'january': 0.47, 'pollution': 0.42, 'established': 0.4, 'quarantine': 0.39, 'air': 0.39, 'china': 0.33, 'particulate': 0.32, 'approximately': 0.32}  \n",
       "6         {'recovered': 0.51, 'igm': 0.49, 'perinatal': 0.46, 'polymerase': 0.42, 'critically': 0.32, 'completed': 0.29, 'potentially': 0.26, 'spike': 0.26, 'antibody': 0.25, 'receptor': 0.24}  \n",
       "7                {'checklist': 0.84, 'urgently': 0.75, 'guiding': 0.69, 'finally': 0.65, 'mostly': 0.52, 'systematic': 0.42, 'ovid': 0.36, 'diagnosing': 0.34, 'pubmed': 0.34, 'probably': 0.33}  \n",
       "8      {'chloroquine': 0.58, 'antiviral': 0.45, 'phenotype': 0.45, 'mixture': 0.4, 'statistically': 0.39, 'ongoing': 0.36, 'best': 0.3, 'criterion': 0.29, 'prospective': 0.29, 'society': 0.28}  \n",
       "9               {'kinetics': 0.43, 'dataset': 0.37, 'crp': 0.36, 'interpretation': 0.34, 'carried': 0.32, 'rather': 0.31, 'stage': 0.29, 'serial': 0.26, 'retrospective': 0.25, 'outcome': 0.24}  "
      ]
     },
     "execution_count": 18,
     "metadata": {},
     "output_type": "execute_result"
    }
   ],
   "source": [
    "pd.set_option('display.max_colwidth', None)\n",
    "score_df[[\"doi\",\"score\",\"Year\",\"authors\",\"journal\",\"top_n_words\"]][:10]"
   ]
  },
  {
   "cell_type": "markdown",
   "metadata": {},
   "source": [
    "# EMBEDDINGS"
   ]
  },
  {
   "cell_type": "markdown",
   "metadata": {},
   "source": [
    "## Agregating w2v Embeddings + LR\n",
    "\n",
    "- w2v was trained on all articles from kaggle (with or without target - openctitations) - to the target year of publication"
   ]
  },
  {
   "cell_type": "code",
   "execution_count": 19,
   "metadata": {},
   "outputs": [],
   "source": [
    "model_w2v = gensim.models.Word2Vec.load(\"2.Train_embeddings_outpus/w2v_published_only_english_between_\"+str(embeddings_from_year) + \" and \"+ str(embeddings_to_year)+\".model\")"
   ]
  },
  {
   "cell_type": "code",
   "execution_count": 20,
   "metadata": {},
   "outputs": [
    {
     "name": "stderr",
     "output_type": "stream",
     "text": [
      "100%|██████████| 9277/9277 [00:36<00:00, 251.48it/s]\n",
      "100%|██████████| 281752/281752 [21:42<00:00, 216.31it/s]\n"
     ]
    }
   ],
   "source": [
    "train_df[\"abstract_tokenized\"] = functions.tokenized_column(train_df.reset_index()[\"abstract_cleaned\"])\n",
    "df_X_train_avg = functions.transform_to_document_vector(text_col_tokenized = train_df.reset_index().abstract_tokenized,model = model_w2v,index_col_list = list(train_df.index),agg_func = \"avg\").fillna(0)\n",
    "\n",
    "predict_df[\"abstract_tokenized\"] = functions.tokenized_column(predict_df.reset_index()[\"abstract_cleaned\"])\n",
    "df_X_predict_avg = functions.transform_to_document_vector(text_col_tokenized = predict_df.reset_index().abstract_tokenized,model = model_w2v,index_col_list = list(predict_df.index),agg_func = \"avg\").fillna(0)"
   ]
  },
  {
   "cell_type": "markdown",
   "metadata": {},
   "source": [
    "## LR"
   ]
  },
  {
   "cell_type": "code",
   "execution_count": 21,
   "metadata": {},
   "outputs": [],
   "source": [
    "X_train_w2v_avg = df_X_train_avg.reset_index().rename({\"index\":\"doi\"},axis=\"columns\")\n",
    "X_test_w2v_avg = df_X_predict_avg.reset_index().rename({\"index\":\"doi\"},axis=\"columns\")\n",
    "y_train_w2v = y_train_bow"
   ]
  },
  {
   "cell_type": "code",
   "execution_count": 22,
   "metadata": {},
   "outputs": [],
   "source": [
    "X_test_w2v_avg = X_test_w2v_avg.set_index(\"doi\")"
   ]
  },
  {
   "cell_type": "code",
   "execution_count": 23,
   "metadata": {},
   "outputs": [],
   "source": [
    "X_train_w2v_avg = X_train_w2v_avg.set_index(\"doi\")"
   ]
  },
  {
   "cell_type": "code",
   "execution_count": 24,
   "metadata": {},
   "outputs": [],
   "source": [
    "if classifier == \"lr\":\n",
    "    cf_w2v_splitted_train_avg = LogisticRegression(random_state=0,penalty = \"l1\",solver = \"saga\").fit(X_train_w2v_avg, y_train_w2v)\n",
    "    pickle.dump(cf_w2v_splitted_train_avg, open('3.Classifiers_outputs/train_'+str(train_year_of_citations)+'/'+'lreg_w2v_avg_'+str(train_year_of_citations)+'.sav', 'wb'))\n",
    "    \n",
    "if classifier == \"rf\":\n",
    "    cf_w2v_splitted_train_avg = RandomForestClassifier(random_state=0).fit(X_train_w2v_avg, y_train_w2v)\n",
    "    pickle.dump(cf_w2v_splitted_train_avg, open('3.Classifiers_outputs/train_'+str(train_year_of_citations)+'/'+'rf_w2v_avg_'+str(train_year_of_citations)+'.sav', 'wb'))\n",
    "     \n",
    "y_pred_w2v_predict_avg = cf_w2v_splitted_train_avg.predict_proba(df_X_predict_avg)[:,1]"
   ]
  },
  {
   "cell_type": "markdown",
   "metadata": {},
   "source": [
    "### Abstracts with highest score"
   ]
  },
  {
   "cell_type": "code",
   "execution_count": 25,
   "metadata": {},
   "outputs": [
    {
     "data": {
      "text/html": [
       "<div>\n",
       "<style scoped>\n",
       "    .dataframe tbody tr th:only-of-type {\n",
       "        vertical-align: middle;\n",
       "    }\n",
       "\n",
       "    .dataframe tbody tr th {\n",
       "        vertical-align: top;\n",
       "    }\n",
       "\n",
       "    .dataframe thead th {\n",
       "        text-align: right;\n",
       "    }\n",
       "</style>\n",
       "<table border=\"1\" class=\"dataframe\">\n",
       "  <thead>\n",
       "    <tr style=\"text-align: right;\">\n",
       "      <th></th>\n",
       "      <th>score</th>\n",
       "      <th>doi</th>\n",
       "      <th>Year</th>\n",
       "    </tr>\n",
       "  </thead>\n",
       "  <tbody>\n",
       "    <tr>\n",
       "      <th>105453</th>\n",
       "      <td>0.907235</td>\n",
       "      <td>10.31234/osf.io/38c7u</td>\n",
       "      <td>2021.0</td>\n",
       "    </tr>\n",
       "    <tr>\n",
       "      <th>187186</th>\n",
       "      <td>0.897899</td>\n",
       "      <td>10.1093/infdis/jiab355</td>\n",
       "      <td>2021.0</td>\n",
       "    </tr>\n",
       "    <tr>\n",
       "      <th>82162</th>\n",
       "      <td>0.871998</td>\n",
       "      <td>10.1142/s0219477521500528</td>\n",
       "      <td>2021.0</td>\n",
       "    </tr>\n",
       "    <tr>\n",
       "      <th>109290</th>\n",
       "      <td>0.859444</td>\n",
       "      <td>10.1093/jtm/taac025</td>\n",
       "      <td>2022.0</td>\n",
       "    </tr>\n",
       "    <tr>\n",
       "      <th>257888</th>\n",
       "      <td>0.845444</td>\n",
       "      <td>10.1093/cid/ciab909</td>\n",
       "      <td>2021.0</td>\n",
       "    </tr>\n",
       "    <tr>\n",
       "      <th>210697</th>\n",
       "      <td>0.843806</td>\n",
       "      <td>10.3390/nu14030693</td>\n",
       "      <td>2022.0</td>\n",
       "    </tr>\n",
       "    <tr>\n",
       "      <th>156453</th>\n",
       "      <td>0.842281</td>\n",
       "      <td>10.3390/jcm11051336</td>\n",
       "      <td>2022.0</td>\n",
       "    </tr>\n",
       "    <tr>\n",
       "      <th>258954</th>\n",
       "      <td>0.841745</td>\n",
       "      <td>10.1002/rmv.2270</td>\n",
       "      <td>2021.0</td>\n",
       "    </tr>\n",
       "    <tr>\n",
       "      <th>57445</th>\n",
       "      <td>0.839105</td>\n",
       "      <td>10.1101/2022.01.04.474803</td>\n",
       "      <td>2022.0</td>\n",
       "    </tr>\n",
       "    <tr>\n",
       "      <th>159722</th>\n",
       "      <td>0.836811</td>\n",
       "      <td>10.21203/rs.3.rs-1362445/v1</td>\n",
       "      <td>2022.0</td>\n",
       "    </tr>\n",
       "  </tbody>\n",
       "</table>\n",
       "</div>"
      ],
      "text/plain": [
       "           score                          doi    Year\n",
       "105453  0.907235        10.31234/osf.io/38c7u  2021.0\n",
       "187186  0.897899       10.1093/infdis/jiab355  2021.0\n",
       "82162   0.871998    10.1142/s0219477521500528  2021.0\n",
       "109290  0.859444          10.1093/jtm/taac025  2022.0\n",
       "257888  0.845444          10.1093/cid/ciab909  2021.0\n",
       "210697  0.843806           10.3390/nu14030693  2022.0\n",
       "156453  0.842281          10.3390/jcm11051336  2022.0\n",
       "258954  0.841745             10.1002/rmv.2270  2021.0\n",
       "57445   0.839105    10.1101/2022.01.04.474803  2022.0\n",
       "159722  0.836811  10.21203/rs.3.rs-1362445/v1  2022.0"
      ]
     },
     "execution_count": 25,
     "metadata": {},
     "output_type": "execute_result"
    }
   ],
   "source": [
    "high_score_art_lr_w2v_avg = pd.DataFrame(list(zip(list(y_pred_w2v_predict_avg), list(predict_df.abstract.values),list(predict_df.abstract_cleaned),list(predict_df.index),list(predict_df.Year.values))),columns =[\"score\",\"abstract\",\"abstract_cleaned\",\"doi\",\"Year\"])\n",
    "high_score_art_lr_w2v_avg = high_score_art_lr_w2v_avg.sort_values(\"score\",ascending=False)\n",
    "high_score_art_lr_w2v_avg.to_csv('3.Classifiers_outputs/train_'+str(train_year_of_citations)+'/'+'high_score_art_lr_w2v_avg.csv')\n",
    "high_score_art_lr_w2v_avg[[\"score\",\"doi\",\"Year\"]][:10]"
   ]
  },
  {
   "cell_type": "code",
   "execution_count": 26,
   "metadata": {},
   "outputs": [],
   "source": [
    "score_df = high_score_art_lr_w2v_avg.merge(df_all[[\"doi\",\"authors\",\"journal\"]],on=\"doi\",how=\"left\")"
   ]
  },
  {
   "cell_type": "code",
   "execution_count": 27,
   "metadata": {},
   "outputs": [
    {
     "data": {
      "text/html": [
       "<div>\n",
       "<style scoped>\n",
       "    .dataframe tbody tr th:only-of-type {\n",
       "        vertical-align: middle;\n",
       "    }\n",
       "\n",
       "    .dataframe tbody tr th {\n",
       "        vertical-align: top;\n",
       "    }\n",
       "\n",
       "    .dataframe thead th {\n",
       "        text-align: right;\n",
       "    }\n",
       "</style>\n",
       "<table border=\"1\" class=\"dataframe\">\n",
       "  <thead>\n",
       "    <tr style=\"text-align: right;\">\n",
       "      <th></th>\n",
       "      <th>score</th>\n",
       "      <th>abstract</th>\n",
       "      <th>abstract_cleaned</th>\n",
       "      <th>doi</th>\n",
       "      <th>Year</th>\n",
       "      <th>authors</th>\n",
       "      <th>journal</th>\n",
       "    </tr>\n",
       "  </thead>\n",
       "  <tbody>\n",
       "    <tr>\n",
       "      <th>0</th>\n",
       "      <td>0.907235</td>\n",
       "      <td>Neuropsychiatric symptoms caused by COVID-19</td>\n",
       "      <td>neuropsychiatric symptom caused covid-19</td>\n",
       "      <td>10.31234/osf.io/38c7u</td>\n",
       "      <td>2021.0</td>\n",
       "      <td>Inasaridze, Ketevan</td>\n",
       "      <td>NaN</td>\n",
       "    </tr>\n",
       "    <tr>\n",
       "      <th>1</th>\n",
       "      <td>0.897899</td>\n",
       "      <td>Whether monoclonal antibodies are able to neutralise SARS-CoV-2 variants of concern has been investigated using pseudoviruses. In this study we show that bamlanivimab, casirivimab, and imdevimab efficiently neutralise authentic SARS-CoV-2 including variant B.1.1.7 (Alpha) but variants B.1.351 (Beta) and P.2 (Zeta) were resistant against bamlanivimab and partially to casirivimab.</td>\n",
       "      <td>whether monoclonal antibody able neutralise sars-cov-2 variant concern investigated using pseudoviruses study show bamlanivimab casirivimab imdevimab efficiently neutralise authentic sars-cov-2 including variant b117 alpha variant b1351 beta p2 zeta resistant bamlanivimab partially casirivimab</td>\n",
       "      <td>10.1093/infdis/jiab355</td>\n",
       "      <td>2021.0</td>\n",
       "      <td>Widera, Marek; Wilhelm, Alexander; Hoehl, Sebastian; Pallas, Christiane; Kohmer, Niko; Wolf, Timo; Rabenau, Holger F; Corman, Victor M; Drosten, Christian; Vehreschild, Maria J G T; Goetsch, Udo; Gottschalk, Rene; Ciesek, Sandra</td>\n",
       "      <td>J Infect Dis</td>\n",
       "    </tr>\n",
       "    <tr>\n",
       "      <th>2</th>\n",
       "      <td>0.871998</td>\n",
       "      <td>In this study, we analyzed daily records of newly diagnosed cases in Wuhan, Hubei excluding Wuhan (HEW), and China excluding Hubei (CEH) to investigate the impact of the new coronavirus outbreak in Wuhan on cities around it and throughout China. We used multifractal detrended cross-correlation analysis (MF-DXA) method to investigate the correlations between the daily number of patients in Wuhan and HEW as well as in Wuhan and CEH. We concluded that the cross-correlations between the daily number of patients in Wuhan and HEW were higher than those between the daily number of patients in Wuhan and CEH because the multifractal features of Wuhan and HEW are greater than those of Wuhan and CEH. We also found that the “Wuhan closure” conducted on January 23 resulted in a decrease in cross-correlations between Wuhan and CEH.</td>\n",
       "      <td>study analyzed daily record newly diagnosed case wuhan hubei excluding wuhan china excluding hubei investigate impact new coronavirus outbreak wuhan city around throughout china used multifractal detrended cross-correlation analysis method investigate correlation daily number patient wuhan well wuhan concluded cross-correlations daily number patient wuhan higher daily number patient wuhan multifractal feature wuhan greater wuhan also found “wuhan conducted january resulted decrease cross-correlations wuhan</td>\n",
       "      <td>10.1142/s0219477521500528</td>\n",
       "      <td>2021.0</td>\n",
       "      <td>Wang, Jian Shao Wei Yan Yan Kim Junseok</td>\n",
       "      <td>Fluctuation and Noise Letters</td>\n",
       "    </tr>\n",
       "    <tr>\n",
       "      <th>3</th>\n",
       "      <td>0.859444</td>\n",
       "      <td>Given the heterogeneity in individual transmissibility, we estimated the superspreading potential of SARS-CoV-2 Delta variants. Using case series of Delta variants in Guangdong, China, we found 15% (95%CrI: 12, 19) of cases seeded 80% of offspring cases.</td>\n",
       "      <td>given heterogeneity individual transmissibility estimated superspreading potential sars-cov-2 delta variant using case series delta variant guangdong china found 95cri case seeded offspring case</td>\n",
       "      <td>10.1093/jtm/taac025</td>\n",
       "      <td>2022.0</td>\n",
       "      <td>Zhao, Shi; Guo, Zihao; Chong, Marc Ka Chun; He, Daihai; Wang, Maggie H</td>\n",
       "      <td>J Travel Med</td>\n",
       "    </tr>\n",
       "    <tr>\n",
       "      <th>4</th>\n",
       "      <td>0.845444</td>\n",
       "      <td>Beta (B.1.351) variant COVID-19 disease was investigated in Qatar. Compared to Alpha (B.1.1.7) variant, odds of progressing to severe disease were 1.24-fold (95% CI: 1.11-1.39) higher for Beta. Odds of progressing to critical disease were 1.49-fold (95% CI: 1.13-1.97) higher. Odds of COVID-19 death were 1.57-fold (95% CI: 1.03-2.43) higher.</td>\n",
       "      <td>beta b1351 variant covid-19 disease investigated qatar compared alpha b117 variant odds progressing severe disease ci higher beta odds progressing critical disease ci higher odds covid-19 death ci higher</td>\n",
       "      <td>10.1093/cid/ciab909</td>\n",
       "      <td>2021.0</td>\n",
       "      <td>Abu-Raddad, Laith J; Chemaitelly, Hiam; Ayoub, Houssein H; Yassine, Hadi M; Benslimane, Fatiha M; Al Khatib, Hebah A; Tang, Patrick; Hasan, Mohammad R; Coyle, Peter; AlMukdad, Sawsan; Al Kanaani, Zaina; Al Kuwari, Einas; Jeremijenko, Andrew; Kaleeckal, Anvar Hassan; Latif, Ali Nizar; Shaik, Riyazuddin Mohammad; Abdul Rahim, Hanan F; Nasrallah, Gheyath K; Al Kuwari, Mohamed Ghaith; Butt, Adeel A; Al Romaihi, Hamad Eid; Al-Thani, Mohamed H; Al Khal, Abdullatif; Bertollini, Roberto</td>\n",
       "      <td>Clinical infectious diseases : an official publication of the Infectious Diseases Society of America</td>\n",
       "    </tr>\n",
       "    <tr>\n",
       "      <th>...</th>\n",
       "      <td>...</td>\n",
       "      <td>...</td>\n",
       "      <td>...</td>\n",
       "      <td>...</td>\n",
       "      <td>...</td>\n",
       "      <td>...</td>\n",
       "      <td>...</td>\n",
       "    </tr>\n",
       "    <tr>\n",
       "      <th>281747</th>\n",
       "      <td>0.013232</td>\n",
       "      <td>How to cite this article: Singh AK, Kumar S, Aggarwal R, Trikha A. Check Central Venous Catheter Set thoroughly or Bite the Bullet! Indian J Crit Care Med 2021;25(7):832–833.</td>\n",
       "      <td>cite article singh ak kumar aggarwal r check central venous catheter set thoroughly bite bullet indian j crit care med</td>\n",
       "      <td>10.5005/jp-journals-10071-23891</td>\n",
       "      <td>2021.0</td>\n",
       "      <td>Singh, Ashutosh K; Kumar, Sandeep; Aggarwal, Richa; Trikha, Anjan</td>\n",
       "      <td>Indian J Crit Care Med</td>\n",
       "    </tr>\n",
       "    <tr>\n",
       "      <th>281748</th>\n",
       "      <td>0.013159</td>\n",
       "      <td>How to cite this article: Kumar N, Kumar A, Pradhan S, Kumar A, Singh K. Painful Blisters of Left Hand Following Extravasation of Remdesivir Infusion in COVID-19. Indian J Crit Care Med 2021;25(2):240–241.</td>\n",
       "      <td>cite article kumar n kumar pradhan kumar singh k painful blister left hand following extravasation remdesivir infusion covid-19 indian j crit care med</td>\n",
       "      <td>10.5005/jp-journals-10071-23732</td>\n",
       "      <td>2021.0</td>\n",
       "      <td>Kumar, Neeraj; Kumar, Abhyuday; Pradhan, Swetalina; Kumar, Amarjeet; Singh, Kunal</td>\n",
       "      <td>Indian J Crit Care Med</td>\n",
       "    </tr>\n",
       "    <tr>\n",
       "      <th>281749</th>\n",
       "      <td>0.013087</td>\n",
       "      <td>Video 1Decompression of gastric intramural abscesses using LAMS.</td>\n",
       "      <td>video gastric intramural abscess using lam</td>\n",
       "      <td>10.1016/j.vgie.2021.05.009</td>\n",
       "      <td>2021.0</td>\n",
       "      <td>Dolan, Russell D; McCarty, Thomas R; Papke, David James; Thompson, Christopher C</td>\n",
       "      <td>VideoGIE : an official video journal of the American Society for Gastrointestinal Endoscopy</td>\n",
       "    </tr>\n",
       "    <tr>\n",
       "      <th>281750</th>\n",
       "      <td>0.012949</td>\n",
       "      <td>The pedicled anterolateral thigh flap, with or without the vastus lateralis muscle, has been described for pelvic exenteration defect reconstruction. However, its use as a free flap for this type of defect is not routinely followed. To reconstruct an extensive pelvic defect in the presence of two ostomies, we describe a free anterolateral thigh flap with deep inferior epigastric pedicles as recipient vessels.</td>\n",
       "      <td>pedicled anterolateral thigh flap without vastus lateralis muscle described pelvic exenteration defect reconstruction however use free flap type defect routinely followed reconstruct extensive pelvic defect presence two ostomy describe free anterolateral thigh flap deep inferior epigastric pedicle recipient vessel</td>\n",
       "      <td>10.1097/gox.0000000000003774</td>\n",
       "      <td>2021.0</td>\n",
       "      <td>Prasidha, Ines; Moisidis, Elias; Hsieh, Frank</td>\n",
       "      <td>Plast Reconstr Surg Glob Open</td>\n",
       "    </tr>\n",
       "    <tr>\n",
       "      <th>281751</th>\n",
       "      <td>0.010586</td>\n",
       "      <td>The author names previously read as: Adrija Hajra, Manasvi Gupta, Binita Ghosh, Kumar Ashish, Neelkumar Patel, Gaurav Manek, Devesh Rai, Dhrubajyoti Bandyopadhyay, Carl J. Lavie Should read as: Adrija Hajra, Manasvi Gupta, Binita Ghosh, Kumar Ashish, Neelkumar Patel, Gaurav Manek, Devesh Rai, Jayakumar Sreenivasan, Akshay Goel, Carl J. Lavie, Dhrubajyoti Bandyopadhya The original article has been corrected.</td>\n",
       "      <td>author name previously read gupta ghosh kumar patel rai carl j read gupta ghosh kumar patel rai carl j original article corrected</td>\n",
       "      <td>10.1007/s40256-021-00518-1</td>\n",
       "      <td>2021.0</td>\n",
       "      <td>Hajra, Adrija; Gupta, Manasvi; Ghosh, Binita; Ashish, Kumar; Patel, Neelkumar; Manek, Gaurav; Rai, Devesh; Sreenivasan, Jayakumar; Goel, Akshay; Lavie, Carl J.; Bandyopadhyay, Dhrubajyoti</td>\n",
       "      <td>Am J Cardiovasc Drugs</td>\n",
       "    </tr>\n",
       "  </tbody>\n",
       "</table>\n",
       "<p>281752 rows × 7 columns</p>\n",
       "</div>"
      ],
      "text/plain": [
       "           score  \\\n",
       "0       0.907235   \n",
       "1       0.897899   \n",
       "2       0.871998   \n",
       "3       0.859444   \n",
       "4       0.845444   \n",
       "...          ...   \n",
       "281747  0.013232   \n",
       "281748  0.013159   \n",
       "281749  0.013087   \n",
       "281750  0.012949   \n",
       "281751  0.010586   \n",
       "\n",
       "                                                                                                                                                                                                                                                                                                                                                                                                                                                                                                                                                                                                                                                                                                                                                                                                                                                             abstract  \\\n",
       "0                                                                                                                                                                                                                                                                                                                                                                                                                                                                                                                                                                                                                                                                                                                                                                                                                        Neuropsychiatric symptoms caused by COVID-19   \n",
       "1                                                                                                                                                                                                                                                                                                                                                                                                                                                                       Whether monoclonal antibodies are able to neutralise SARS-CoV-2 variants of concern has been investigated using pseudoviruses. In this study we show that bamlanivimab, casirivimab, and imdevimab efficiently neutralise authentic SARS-CoV-2 including variant B.1.1.7 (Alpha) but variants B.1.351 (Beta) and P.2 (Zeta) were resistant against bamlanivimab and partially to casirivimab.   \n",
       "2       In this study, we analyzed daily records of newly diagnosed cases in Wuhan, Hubei excluding Wuhan (HEW), and China excluding Hubei (CEH) to investigate the impact of the new coronavirus outbreak in Wuhan on cities around it and throughout China. We used multifractal detrended cross-correlation analysis (MF-DXA) method to investigate the correlations between the daily number of patients in Wuhan and HEW as well as in Wuhan and CEH. We concluded that the cross-correlations between the daily number of patients in Wuhan and HEW were higher than those between the daily number of patients in Wuhan and CEH because the multifractal features of Wuhan and HEW are greater than those of Wuhan and CEH. We also found that the “Wuhan closure” conducted on January 23 resulted in a decrease in cross-correlations between Wuhan and CEH.   \n",
       "3                                                                                                                                                                                                                                                                                                                                                                                                                                                                                                                                                                                                      Given the heterogeneity in individual transmissibility, we estimated the superspreading potential of SARS-CoV-2 Delta variants. Using case series of Delta variants in Guangdong, China, we found 15% (95%CrI: 12, 19) of cases seeded 80% of offspring cases.   \n",
       "4                                                                                                                                                                                                                                                                                                                                                                                                                                                                                                              Beta (B.1.351) variant COVID-19 disease was investigated in Qatar. Compared to Alpha (B.1.1.7) variant, odds of progressing to severe disease were 1.24-fold (95% CI: 1.11-1.39) higher for Beta. Odds of progressing to critical disease were 1.49-fold (95% CI: 1.13-1.97) higher. Odds of COVID-19 death were 1.57-fold (95% CI: 1.03-2.43) higher.   \n",
       "...                                                                                                                                                                                                                                                                                                                                                                                                                                                                                                                                                                                                                                                                                                                                                                                                                                                               ...   \n",
       "281747                                                                                                                                                                                                                                                                                                                                                                                                                                                                                                                                                                                                                                                                                 How to cite this article: Singh AK, Kumar S, Aggarwal R, Trikha A. Check Central Venous Catheter Set thoroughly or Bite the Bullet! Indian J Crit Care Med 2021;25(7):832–833.   \n",
       "281748                                                                                                                                                                                                                                                                                                                                                                                                                                                                                                                                                                                                                                                  How to cite this article: Kumar N, Kumar A, Pradhan S, Kumar A, Singh K. Painful Blisters of Left Hand Following Extravasation of Remdesivir Infusion in COVID-19. Indian J Crit Care Med 2021;25(2):240–241.   \n",
       "281749                                                                                                                                                                                                                                                                                                                                                                                                                                                                                                                                                                                                                                                                                                                                                                                               Video 1Decompression of gastric intramural abscesses using LAMS.   \n",
       "281750                                                                                                                                                                                                                                                                                                                                                                                                                                   The pedicled anterolateral thigh flap, with or without the vastus lateralis muscle, has been described for pelvic exenteration defect reconstruction. However, its use as a free flap for this type of defect is not routinely followed. To reconstruct an extensive pelvic defect in the presence of two ostomies, we describe a free anterolateral thigh flap with deep inferior epigastric pedicles as recipient vessels.   \n",
       "281751                                                                                                                                                                                                                                                                                                                                                                                                                                     The author names previously read as: Adrija Hajra, Manasvi Gupta, Binita Ghosh, Kumar Ashish, Neelkumar Patel, Gaurav Manek, Devesh Rai, Dhrubajyoti Bandyopadhyay, Carl J. Lavie Should read as: Adrija Hajra, Manasvi Gupta, Binita Ghosh, Kumar Ashish, Neelkumar Patel, Gaurav Manek, Devesh Rai, Jayakumar Sreenivasan, Akshay Goel, Carl J. Lavie, Dhrubajyoti Bandyopadhya The original article has been corrected.   \n",
       "\n",
       "                                                                                                                                                                                                                                                                                                                                                                                                                                                                                                                       abstract_cleaned  \\\n",
       "0                                                                                                                                                                                                                                                                                                                                                                                                                                                                                              neuropsychiatric symptom caused covid-19   \n",
       "1                                                                                                                                                                                                                                whether monoclonal antibody able neutralise sars-cov-2 variant concern investigated using pseudoviruses study show bamlanivimab casirivimab imdevimab efficiently neutralise authentic sars-cov-2 including variant b117 alpha variant b1351 beta p2 zeta resistant bamlanivimab partially casirivimab   \n",
       "2       study analyzed daily record newly diagnosed case wuhan hubei excluding wuhan china excluding hubei investigate impact new coronavirus outbreak wuhan city around throughout china used multifractal detrended cross-correlation analysis method investigate correlation daily number patient wuhan well wuhan concluded cross-correlations daily number patient wuhan higher daily number patient wuhan multifractal feature wuhan greater wuhan also found “wuhan conducted january resulted decrease cross-correlations wuhan   \n",
       "3                                                                                                                                                                                                                                                                                                                                    given heterogeneity individual transmissibility estimated superspreading potential sars-cov-2 delta variant using case series delta variant guangdong china found 95cri case seeded offspring case   \n",
       "4                                                                                                                                                                                                                                                                                                                           beta b1351 variant covid-19 disease investigated qatar compared alpha b117 variant odds progressing severe disease ci higher beta odds progressing critical disease ci higher odds covid-19 death ci higher   \n",
       "...                                                                                                                                                                                                                                                                                                                                                                                                                                                                                                                                 ...   \n",
       "281747                                                                                                                                                                                                                                                                                                                                                                                                           cite article singh ak kumar aggarwal r check central venous catheter set thoroughly bite bullet indian j crit care med   \n",
       "281748                                                                                                                                                                                                                                                                                                                                                                           cite article kumar n kumar pradhan kumar singh k painful blister left hand following extravasation remdesivir infusion covid-19 indian j crit care med   \n",
       "281749                                                                                                                                                                                                                                                                                                                                                                                                                                                                                       video gastric intramural abscess using lam   \n",
       "281750                                                                                                                                                                                                      pedicled anterolateral thigh flap without vastus lateralis muscle described pelvic exenteration defect reconstruction however use free flap type defect routinely followed reconstruct extensive pelvic defect presence two ostomy describe free anterolateral thigh flap deep inferior epigastric pedicle recipient vessel   \n",
       "281751                                                                                                                                                                                                                                                                                                                                                                                                author name previously read gupta ghosh kumar patel rai carl j read gupta ghosh kumar patel rai carl j original article corrected   \n",
       "\n",
       "                                    doi    Year  \\\n",
       "0                 10.31234/osf.io/38c7u  2021.0   \n",
       "1                10.1093/infdis/jiab355  2021.0   \n",
       "2             10.1142/s0219477521500528  2021.0   \n",
       "3                   10.1093/jtm/taac025  2022.0   \n",
       "4                   10.1093/cid/ciab909  2021.0   \n",
       "...                                 ...     ...   \n",
       "281747  10.5005/jp-journals-10071-23891  2021.0   \n",
       "281748  10.5005/jp-journals-10071-23732  2021.0   \n",
       "281749       10.1016/j.vgie.2021.05.009  2021.0   \n",
       "281750     10.1097/gox.0000000000003774  2021.0   \n",
       "281751       10.1007/s40256-021-00518-1  2021.0   \n",
       "\n",
       "                                                                                                                                                                                                                                                                                                                                                                                                                                                                                                    authors  \\\n",
       "0                                                                                                                                                                                                                                                                                                                                                                                                                                                                                       Inasaridze, Ketevan   \n",
       "1                                                                                                                                                                                                                                                                      Widera, Marek; Wilhelm, Alexander; Hoehl, Sebastian; Pallas, Christiane; Kohmer, Niko; Wolf, Timo; Rabenau, Holger F; Corman, Victor M; Drosten, Christian; Vehreschild, Maria J G T; Goetsch, Udo; Gottschalk, Rene; Ciesek, Sandra   \n",
       "2                                                                                                                                                                                                                                                                                                                                                                                                                                                                   Wang, Jian Shao Wei Yan Yan Kim Junseok   \n",
       "3                                                                                                                                                                                                                                                                                                                                                                                                                                    Zhao, Shi; Guo, Zihao; Chong, Marc Ka Chun; He, Daihai; Wang, Maggie H   \n",
       "4       Abu-Raddad, Laith J; Chemaitelly, Hiam; Ayoub, Houssein H; Yassine, Hadi M; Benslimane, Fatiha M; Al Khatib, Hebah A; Tang, Patrick; Hasan, Mohammad R; Coyle, Peter; AlMukdad, Sawsan; Al Kanaani, Zaina; Al Kuwari, Einas; Jeremijenko, Andrew; Kaleeckal, Anvar Hassan; Latif, Ali Nizar; Shaik, Riyazuddin Mohammad; Abdul Rahim, Hanan F; Nasrallah, Gheyath K; Al Kuwari, Mohamed Ghaith; Butt, Adeel A; Al Romaihi, Hamad Eid; Al-Thani, Mohamed H; Al Khal, Abdullatif; Bertollini, Roberto   \n",
       "...                                                                                                                                                                                                                                                                                                                                                                                                                                                                                                     ...   \n",
       "281747                                                                                                                                                                                                                                                                                                                                                                                                                                    Singh, Ashutosh K; Kumar, Sandeep; Aggarwal, Richa; Trikha, Anjan   \n",
       "281748                                                                                                                                                                                                                                                                                                                                                                                                                    Kumar, Neeraj; Kumar, Abhyuday; Pradhan, Swetalina; Kumar, Amarjeet; Singh, Kunal   \n",
       "281749                                                                                                                                                                                                                                                                                                                                                                                                                     Dolan, Russell D; McCarty, Thomas R; Papke, David James; Thompson, Christopher C   \n",
       "281750                                                                                                                                                                                                                                                                                                                                                                                                                                                        Prasidha, Ines; Moisidis, Elias; Hsieh, Frank   \n",
       "281751                                                                                                                                                                                                                                                                                                          Hajra, Adrija; Gupta, Manasvi; Ghosh, Binita; Ashish, Kumar; Patel, Neelkumar; Manek, Gaurav; Rai, Devesh; Sreenivasan, Jayakumar; Goel, Akshay; Lavie, Carl J.; Bandyopadhyay, Dhrubajyoti   \n",
       "\n",
       "                                                                                                     journal  \n",
       "0                                                                                                        NaN  \n",
       "1                                                                                               J Infect Dis  \n",
       "2                                                                              Fluctuation and Noise Letters  \n",
       "3                                                                                               J Travel Med  \n",
       "4       Clinical infectious diseases : an official publication of the Infectious Diseases Society of America  \n",
       "...                                                                                                      ...  \n",
       "281747                                                                                Indian J Crit Care Med  \n",
       "281748                                                                                Indian J Crit Care Med  \n",
       "281749           VideoGIE : an official video journal of the American Society for Gastrointestinal Endoscopy  \n",
       "281750                                                                         Plast Reconstr Surg Glob Open  \n",
       "281751                                                                                 Am J Cardiovasc Drugs  \n",
       "\n",
       "[281752 rows x 7 columns]"
      ]
     },
     "execution_count": 27,
     "metadata": {},
     "output_type": "execute_result"
    }
   ],
   "source": [
    "score_df"
   ]
  },
  {
   "cell_type": "code",
   "execution_count": 28,
   "metadata": {},
   "outputs": [],
   "source": [
    "score_df[\"len\"] = score_df['abstract_cleaned'].str.len()"
   ]
  },
  {
   "cell_type": "code",
   "execution_count": 29,
   "metadata": {},
   "outputs": [],
   "source": [
    "score_df = score_df.sort_values(\"score\",ascending=False)"
   ]
  },
  {
   "cell_type": "markdown",
   "metadata": {},
   "source": [
    "### Add n most important words "
   ]
  },
  {
   "cell_type": "code",
   "execution_count": 30,
   "metadata": {},
   "outputs": [],
   "source": [
    "n=10"
   ]
  },
  {
   "cell_type": "code",
   "execution_count": 31,
   "metadata": {},
   "outputs": [
    {
     "name": "stderr",
     "output_type": "stream",
     "text": [
      "100%|██████████| 281752/281752 [16:09<00:00, 290.49it/s]\n"
     ]
    }
   ],
   "source": [
    "score_df[\"abstract_cleaned_tok\"] = functions.tokenized_column(score_df[\"abstract_cleaned\"])\n",
    "\n",
    "feature_importance = functions.score_of_word(model_w2v,cf_w2v_splitted_train_avg).sort_values(by = [\"score\"], ascending=False)\n",
    "fi_dict = dict(zip(feature_importance.word,feature_importance.score))\n",
    "\n",
    "row_list = []\n",
    "for row in tqdm(list(range(0,len(score_df.abstract_cleaned_tok)))): \n",
    "    words_abstract = list(chain.from_iterable(list(score_df.abstract_cleaned_tok[row:row+1])))\n",
    "    \n",
    "    # potrebuji predfiltrovat jen ta slova z abstraktu pro ktera mam FI\n",
    "    words_abstract = list(set(fi_dict.keys()).intersection(words_abstract))\n",
    "    \n",
    "    words_abstract_score = dict(((key, fi_dict[key]) for key in words_abstract))\n",
    "    words_abstract_score_sort = dict(sorted(words_abstract_score.items(), key=lambda item: item[1],reverse=True)) \n",
    "    \n",
    "    top_n = {k: words_abstract_score_sort[k] for k in list(words_abstract_score_sort)[:n]}\n",
    "    \n",
    "    #round values in dictionary\n",
    "    res = dict()\n",
    "    for key in top_n:  \n",
    "        res[key] = round(top_n[key], 2)\n",
    "    row_list.append(res)\n",
    "    \n",
    "score_df[\"top_n_words\"] = row_list"
   ]
  },
  {
   "cell_type": "code",
   "execution_count": 32,
   "metadata": {},
   "outputs": [
    {
     "data": {
      "text/html": [
       "<div>\n",
       "<style scoped>\n",
       "    .dataframe tbody tr th:only-of-type {\n",
       "        vertical-align: middle;\n",
       "    }\n",
       "\n",
       "    .dataframe tbody tr th {\n",
       "        vertical-align: top;\n",
       "    }\n",
       "\n",
       "    .dataframe thead th {\n",
       "        text-align: right;\n",
       "    }\n",
       "</style>\n",
       "<table border=\"1\" class=\"dataframe\">\n",
       "  <thead>\n",
       "    <tr style=\"text-align: right;\">\n",
       "      <th></th>\n",
       "      <th>doi</th>\n",
       "      <th>score</th>\n",
       "      <th>Year</th>\n",
       "      <th>authors</th>\n",
       "      <th>journal</th>\n",
       "      <th>top_n_words</th>\n",
       "    </tr>\n",
       "  </thead>\n",
       "  <tbody>\n",
       "    <tr>\n",
       "      <th>0</th>\n",
       "      <td>10.31234/osf.io/38c7u</td>\n",
       "      <td>0.907235</td>\n",
       "      <td>2021.0</td>\n",
       "      <td>Inasaridze, Ketevan</td>\n",
       "      <td>NaN</td>\n",
       "      <td>{'neuropsychiatric': 0.99, 'symptom': 0.94, 'covid-19': 0.88, 'caused': 0.49}</td>\n",
       "    </tr>\n",
       "    <tr>\n",
       "      <th>1</th>\n",
       "      <td>10.1093/infdis/jiab355</td>\n",
       "      <td>0.897899</td>\n",
       "      <td>2021.0</td>\n",
       "      <td>Widera, Marek; Wilhelm, Alexander; Hoehl, Sebastian; Pallas, Christiane; Kohmer, Niko; Wolf, Timo; Rabenau, Holger F; Corman, Victor M; Drosten, Christian; Vehreschild, Maria J G T; Goetsch, Udo; Gottschalk, Rene; Ciesek, Sandra</td>\n",
       "      <td>J Infect Dis</td>\n",
       "      <td>{'zeta': 1.0, 'pseudoviruses': 1.0, 'imdevimab': 1.0, 'casirivimab': 1.0, 'beta': 0.99, 'alpha': 0.99, 'bamlanivimab': 0.99, 'b117': 0.98, 'sars-cov-2': 0.98, 'b1351': 0.97}</td>\n",
       "    </tr>\n",
       "    <tr>\n",
       "      <th>2</th>\n",
       "      <td>10.1142/s0219477521500528</td>\n",
       "      <td>0.871998</td>\n",
       "      <td>2021.0</td>\n",
       "      <td>Wang, Jian Shao Wei Yan Yan Kim Junseok</td>\n",
       "      <td>Fluctuation and Noise Letters</td>\n",
       "      <td>{'wuhan': 1.0, 'hubei': 1.0, 'multifractal': 1.0, '“wuhan': 1.0, 'cross-correlations': 0.99, 'detrended': 0.98, 'china': 0.98, 'city': 0.97, 'coronavirus': 0.96, 'cross-correlation': 0.93}</td>\n",
       "    </tr>\n",
       "    <tr>\n",
       "      <th>3</th>\n",
       "      <td>10.1093/jtm/taac025</td>\n",
       "      <td>0.859444</td>\n",
       "      <td>2022.0</td>\n",
       "      <td>Zhao, Shi; Guo, Zihao; Chong, Marc Ka Chun; He, Daihai; Wang, Maggie H</td>\n",
       "      <td>J Travel Med</td>\n",
       "      <td>{'superspreading': 1.0, '95cri': 1.0, 'delta': 1.0, 'transmissibility': 0.99, 'sars-cov-2': 0.98, 'china': 0.98, 'variant': 0.95, 'guangdong': 0.95, 'case': 0.7, 'offspring': 0.64}</td>\n",
       "    </tr>\n",
       "    <tr>\n",
       "      <th>4</th>\n",
       "      <td>10.1093/cid/ciab909</td>\n",
       "      <td>0.845444</td>\n",
       "      <td>2021.0</td>\n",
       "      <td>Abu-Raddad, Laith J; Chemaitelly, Hiam; Ayoub, Houssein H; Yassine, Hadi M; Benslimane, Fatiha M; Al Khatib, Hebah A; Tang, Patrick; Hasan, Mohammad R; Coyle, Peter; AlMukdad, Sawsan; Al Kanaani, Zaina; Al Kuwari, Einas; Jeremijenko, Andrew; Kaleeckal, Anvar Hassan; Latif, Ali Nizar; Shaik, Riyazuddin Mohammad; Abdul Rahim, Hanan F; Nasrallah, Gheyath K; Al Kuwari, Mohamed Ghaith; Butt, Adeel A; Al Romaihi, Hamad Eid; Al-Thani, Mohamed H; Al Khal, Abdullatif; Bertollini, Roberto</td>\n",
       "      <td>Clinical infectious diseases : an official publication of the Infectious Diseases Society of America</td>\n",
       "      <td>{'beta': 0.99, 'alpha': 0.99, 'b117': 0.98, 'b1351': 0.97, 'severe': 0.96, 'variant': 0.95, 'progressing': 0.9, 'covid-19': 0.88, 'death': 0.83, 'critical': 0.82}</td>\n",
       "    </tr>\n",
       "    <tr>\n",
       "      <th>5</th>\n",
       "      <td>10.3390/nu14030693</td>\n",
       "      <td>0.843806</td>\n",
       "      <td>2022.0</td>\n",
       "      <td>Zampelas, Antonis</td>\n",
       "      <td>Nutrients</td>\n",
       "      <td>{'sars-cov-2': 0.98, 'coronavirus': 0.96, 'outbreak': 0.9, 'covid-19': 0.88, 'recent': 0.84, 'disease-2019': 0.82, '2019': 0.6, 'cause': 0.06}</td>\n",
       "    </tr>\n",
       "    <tr>\n",
       "      <th>6</th>\n",
       "      <td>10.3390/jcm11051336</td>\n",
       "      <td>0.842281</td>\n",
       "      <td>2022.0</td>\n",
       "      <td>Mallat, Jihad</td>\n",
       "      <td>J Clin Med</td>\n",
       "      <td>{'sar-cov-2': 1.0, 'unparalleled': 0.99, 'scale': 0.98, 'coronavirus-2': 0.98, 'coronavirus': 0.96, 'severe': 0.96, 'covid-19': 0.88, 'world': 0.85, 'global': 0.73, 'pandemic': 0.71}</td>\n",
       "    </tr>\n",
       "    <tr>\n",
       "      <th>7</th>\n",
       "      <td>10.1002/rmv.2270</td>\n",
       "      <td>0.841745</td>\n",
       "      <td>2021.0</td>\n",
       "      <td>Chakraborty, Chiranjib; Bhattacharya, Manojit; Sharma, Ashish Ranjan</td>\n",
       "      <td>Rev Med Virol</td>\n",
       "      <td>{'zeta': 1.0, 'b1526': 1.0, 'b16172': 1.0, 'b1617': 1.0, 'delta': 1.0, 'b1429': 1.0, 'b1427': 1.0, 'd614g': 1.0, 'voc': 1.0, 'beta': 0.99}</td>\n",
       "    </tr>\n",
       "    <tr>\n",
       "      <th>8</th>\n",
       "      <td>10.1101/2022.01.04.474803</td>\n",
       "      <td>0.839105</td>\n",
       "      <td>2022.0</td>\n",
       "      <td>Yuan, Tom Z.; Lucas, Carolina; Monteiro, Valter S.; Iwasaki, Akiko; Yang, Marisa L.; Nepita, Hector F.; Lujan Hernandez, Ana G.; Taft, Joseph M.; Frei, Lester; Reddy, Sai T.; Weber, Cédric R.; Malobisky, Kevin P.; Mesquita, Rodrigo; Sato, Aaron K.</td>\n",
       "      <td>bioRxiv</td>\n",
       "      <td>{'omicron': 1.0, 'delta': 1.0, 'neutralizes': 0.99, 'sars-cov-2': 0.98, 'bispecific': 0.96, 'coronavirus': 0.96, 'severe': 0.96, 'brief': 0.96, 'variant': 0.95, 'receptor-binding': 0.94}</td>\n",
       "    </tr>\n",
       "    <tr>\n",
       "      <th>9</th>\n",
       "      <td>10.21203/rs.3.rs-1362445/v1</td>\n",
       "      <td>0.836811</td>\n",
       "      <td>2022.0</td>\n",
       "      <td>Chen, Jiahui; Wei, Guo-Wei</td>\n",
       "      <td>Res Sq</td>\n",
       "      <td>{'omicron': 1.0, 'delta': 1.0, 'ba1': 1.0, 'ba2': 1.0, 'beta': 0.99, 'infectivity': 0.99, 'alpha': 0.99, 'sotrovimab': 0.99, 'lambda': 0.99, 'rapidly': 0.98}</td>\n",
       "    </tr>\n",
       "  </tbody>\n",
       "</table>\n",
       "</div>"
      ],
      "text/plain": [
       "                           doi     score    Year  \\\n",
       "0        10.31234/osf.io/38c7u  0.907235  2021.0   \n",
       "1       10.1093/infdis/jiab355  0.897899  2021.0   \n",
       "2    10.1142/s0219477521500528  0.871998  2021.0   \n",
       "3          10.1093/jtm/taac025  0.859444  2022.0   \n",
       "4          10.1093/cid/ciab909  0.845444  2021.0   \n",
       "5           10.3390/nu14030693  0.843806  2022.0   \n",
       "6          10.3390/jcm11051336  0.842281  2022.0   \n",
       "7             10.1002/rmv.2270  0.841745  2021.0   \n",
       "8    10.1101/2022.01.04.474803  0.839105  2022.0   \n",
       "9  10.21203/rs.3.rs-1362445/v1  0.836811  2022.0   \n",
       "\n",
       "                                                                                                                                                                                                                                                                                                                                                                                                                                                                                               authors  \\\n",
       "0                                                                                                                                                                                                                                                                                                                                                                                                                                                                                  Inasaridze, Ketevan   \n",
       "1                                                                                                                                                                                                                                                                 Widera, Marek; Wilhelm, Alexander; Hoehl, Sebastian; Pallas, Christiane; Kohmer, Niko; Wolf, Timo; Rabenau, Holger F; Corman, Victor M; Drosten, Christian; Vehreschild, Maria J G T; Goetsch, Udo; Gottschalk, Rene; Ciesek, Sandra   \n",
       "2                                                                                                                                                                                                                                                                                                                                                                                                                                                              Wang, Jian Shao Wei Yan Yan Kim Junseok   \n",
       "3                                                                                                                                                                                                                                                                                                                                                                                                                               Zhao, Shi; Guo, Zihao; Chong, Marc Ka Chun; He, Daihai; Wang, Maggie H   \n",
       "4  Abu-Raddad, Laith J; Chemaitelly, Hiam; Ayoub, Houssein H; Yassine, Hadi M; Benslimane, Fatiha M; Al Khatib, Hebah A; Tang, Patrick; Hasan, Mohammad R; Coyle, Peter; AlMukdad, Sawsan; Al Kanaani, Zaina; Al Kuwari, Einas; Jeremijenko, Andrew; Kaleeckal, Anvar Hassan; Latif, Ali Nizar; Shaik, Riyazuddin Mohammad; Abdul Rahim, Hanan F; Nasrallah, Gheyath K; Al Kuwari, Mohamed Ghaith; Butt, Adeel A; Al Romaihi, Hamad Eid; Al-Thani, Mohamed H; Al Khal, Abdullatif; Bertollini, Roberto   \n",
       "5                                                                                                                                                                                                                                                                                                                                                                                                                                                                                    Zampelas, Antonis   \n",
       "6                                                                                                                                                                                                                                                                                                                                                                                                                                                                                        Mallat, Jihad   \n",
       "7                                                                                                                                                                                                                                                                                                                                                                                                                                 Chakraborty, Chiranjib; Bhattacharya, Manojit; Sharma, Ashish Ranjan   \n",
       "8                                                                                                                                                                                                                                              Yuan, Tom Z.; Lucas, Carolina; Monteiro, Valter S.; Iwasaki, Akiko; Yang, Marisa L.; Nepita, Hector F.; Lujan Hernandez, Ana G.; Taft, Joseph M.; Frei, Lester; Reddy, Sai T.; Weber, Cédric R.; Malobisky, Kevin P.; Mesquita, Rodrigo; Sato, Aaron K.   \n",
       "9                                                                                                                                                                                                                                                                                                                                                                                                                                                                           Chen, Jiahui; Wei, Guo-Wei   \n",
       "\n",
       "                                                                                                journal  \\\n",
       "0                                                                                                   NaN   \n",
       "1                                                                                          J Infect Dis   \n",
       "2                                                                         Fluctuation and Noise Letters   \n",
       "3                                                                                          J Travel Med   \n",
       "4  Clinical infectious diseases : an official publication of the Infectious Diseases Society of America   \n",
       "5                                                                                             Nutrients   \n",
       "6                                                                                            J Clin Med   \n",
       "7                                                                                         Rev Med Virol   \n",
       "8                                                                                               bioRxiv   \n",
       "9                                                                                                Res Sq   \n",
       "\n",
       "                                                                                                                                                                                    top_n_words  \n",
       "0                                                                                                                 {'neuropsychiatric': 0.99, 'symptom': 0.94, 'covid-19': 0.88, 'caused': 0.49}  \n",
       "1                 {'zeta': 1.0, 'pseudoviruses': 1.0, 'imdevimab': 1.0, 'casirivimab': 1.0, 'beta': 0.99, 'alpha': 0.99, 'bamlanivimab': 0.99, 'b117': 0.98, 'sars-cov-2': 0.98, 'b1351': 0.97}  \n",
       "2  {'wuhan': 1.0, 'hubei': 1.0, 'multifractal': 1.0, '“wuhan': 1.0, 'cross-correlations': 0.99, 'detrended': 0.98, 'china': 0.98, 'city': 0.97, 'coronavirus': 0.96, 'cross-correlation': 0.93}  \n",
       "3          {'superspreading': 1.0, '95cri': 1.0, 'delta': 1.0, 'transmissibility': 0.99, 'sars-cov-2': 0.98, 'china': 0.98, 'variant': 0.95, 'guangdong': 0.95, 'case': 0.7, 'offspring': 0.64}  \n",
       "4                            {'beta': 0.99, 'alpha': 0.99, 'b117': 0.98, 'b1351': 0.97, 'severe': 0.96, 'variant': 0.95, 'progressing': 0.9, 'covid-19': 0.88, 'death': 0.83, 'critical': 0.82}  \n",
       "5                                                {'sars-cov-2': 0.98, 'coronavirus': 0.96, 'outbreak': 0.9, 'covid-19': 0.88, 'recent': 0.84, 'disease-2019': 0.82, '2019': 0.6, 'cause': 0.06}  \n",
       "6        {'sar-cov-2': 1.0, 'unparalleled': 0.99, 'scale': 0.98, 'coronavirus-2': 0.98, 'coronavirus': 0.96, 'severe': 0.96, 'covid-19': 0.88, 'world': 0.85, 'global': 0.73, 'pandemic': 0.71}  \n",
       "7                                                    {'zeta': 1.0, 'b1526': 1.0, 'b16172': 1.0, 'b1617': 1.0, 'delta': 1.0, 'b1429': 1.0, 'b1427': 1.0, 'd614g': 1.0, 'voc': 1.0, 'beta': 0.99}  \n",
       "8    {'omicron': 1.0, 'delta': 1.0, 'neutralizes': 0.99, 'sars-cov-2': 0.98, 'bispecific': 0.96, 'coronavirus': 0.96, 'severe': 0.96, 'brief': 0.96, 'variant': 0.95, 'receptor-binding': 0.94}  \n",
       "9                                 {'omicron': 1.0, 'delta': 1.0, 'ba1': 1.0, 'ba2': 1.0, 'beta': 0.99, 'infectivity': 0.99, 'alpha': 0.99, 'sotrovimab': 0.99, 'lambda': 0.99, 'rapidly': 0.98}  "
      ]
     },
     "execution_count": 32,
     "metadata": {},
     "output_type": "execute_result"
    }
   ],
   "source": [
    "pd.set_option('display.max_colwidth', None)\n",
    "score_df[[\"doi\",\"score\",\"Year\",\"authors\",\"journal\",\"top_n_words\"]][:10]"
   ]
  },
  {
   "cell_type": "code",
   "execution_count": 33,
   "metadata": {},
   "outputs": [],
   "source": [
    "score_df.to_csv(\"final_articles_score_table_w2v.csv\")"
   ]
  },
  {
   "cell_type": "code",
   "execution_count": 34,
   "metadata": {},
   "outputs": [],
   "source": [
    "score_df = pd.read_csv(\"final_articles_score_table_w2v.csv\")"
   ]
  },
  {
   "cell_type": "code",
   "execution_count": 35,
   "metadata": {},
   "outputs": [],
   "source": [
    "corpus = pd.read_csv(\"sources/cord19/23_04_2022/metadata.csv\")"
   ]
  },
  {
   "cell_type": "code",
   "execution_count": 36,
   "metadata": {},
   "outputs": [],
   "source": [
    "score_df.merge(corpus[[\"doi\",\"title\"]],on=\"doi\",how=\"left\").to_csv(\"final_articles_score_table_w2v.csv\")"
   ]
  },
  {
   "cell_type": "code",
   "execution_count": null,
   "metadata": {},
   "outputs": [],
   "source": []
  }
 ],
 "metadata": {
  "kernelspec": {
   "display_name": "Python 3 (ipykernel)",
   "language": "python",
   "name": "python3"
  },
  "language_info": {
   "codemirror_mode": {
    "name": "ipython",
    "version": 3
   },
   "file_extension": ".py",
   "mimetype": "text/x-python",
   "name": "python",
   "nbconvert_exporter": "python",
   "pygments_lexer": "ipython3",
   "version": "3.9.7"
  }
 },
 "nbformat": 4,
 "nbformat_minor": 4
}
