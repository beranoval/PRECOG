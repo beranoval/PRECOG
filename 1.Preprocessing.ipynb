{
 "cells": [
  {
   "cell_type": "markdown",
   "metadata": {},
   "source": [
    "## TEXT PREPROCESSING\n",
    "\n",
    "Notebook for processing articles (CORD-19 corpus) \n"
   ]
  },
  {
   "cell_type": "code",
   "execution_count": 1,
   "metadata": {},
   "outputs": [],
   "source": [
    "import pandas as pd                        \n",
    "import numpy as np                         \n",
    "import seaborn as sns                     \n",
    "import matplotlib.pyplot as plt            \n",
    "import re                                  \n",
    "import string                              \n",
    "import warnings                           \n",
    "import nltk                                \n",
    "from nltk.corpus import stopwords         \n",
    "from gensim.corpora import Dictionary     "
   ]
  },
  {
   "cell_type": "markdown",
   "metadata": {},
   "source": [
    "### Upload Kaggle dataset with abstracts + some filtering "
   ]
  },
  {
   "cell_type": "code",
   "execution_count": 2,
   "metadata": {},
   "outputs": [],
   "source": [
    "path = \"sources/cord19/23_04_2022/metadata.csv\""
   ]
  },
  {
   "cell_type": "code",
   "execution_count": 3,
   "metadata": {},
   "outputs": [
    {
     "name": "stderr",
     "output_type": "stream",
     "text": [
      "C:\\Users\\berl03\\Anaconda3\\lib\\site-packages\\IPython\\core\\interactiveshell.py:3444: DtypeWarning: Columns (1,4,5,6,13,14,15,16) have mixed types.Specify dtype option on import or set low_memory=False.\n",
      "  exec(code_obj, self.user_global_ns, self.user_ns)\n"
     ]
    },
    {
     "data": {
      "text/html": [
       "<div>\n",
       "<style scoped>\n",
       "    .dataframe tbody tr th:only-of-type {\n",
       "        vertical-align: middle;\n",
       "    }\n",
       "\n",
       "    .dataframe tbody tr th {\n",
       "        vertical-align: top;\n",
       "    }\n",
       "\n",
       "    .dataframe thead th {\n",
       "        text-align: right;\n",
       "    }\n",
       "</style>\n",
       "<table border=\"1\" class=\"dataframe\">\n",
       "  <thead>\n",
       "    <tr style=\"text-align: right;\">\n",
       "      <th></th>\n",
       "      <th>cord_uid</th>\n",
       "      <th>sha</th>\n",
       "      <th>source_x</th>\n",
       "      <th>title</th>\n",
       "      <th>doi</th>\n",
       "      <th>pmcid</th>\n",
       "      <th>pubmed_id</th>\n",
       "      <th>license</th>\n",
       "      <th>abstract</th>\n",
       "      <th>publish_time</th>\n",
       "      <th>authors</th>\n",
       "      <th>journal</th>\n",
       "      <th>mag_id</th>\n",
       "      <th>who_covidence_id</th>\n",
       "      <th>arxiv_id</th>\n",
       "      <th>pdf_json_files</th>\n",
       "      <th>pmc_json_files</th>\n",
       "      <th>url</th>\n",
       "      <th>s2_id</th>\n",
       "    </tr>\n",
       "  </thead>\n",
       "  <tbody>\n",
       "    <tr>\n",
       "      <th>0</th>\n",
       "      <td>ug7v899j</td>\n",
       "      <td>d1aafb70c066a2068b02786f8929fd9c900897fb</td>\n",
       "      <td>PMC</td>\n",
       "      <td>Clinical features of culture-proven Mycoplasma...</td>\n",
       "      <td>10.1186/1471-2334-1-6</td>\n",
       "      <td>PMC35282</td>\n",
       "      <td>11472636</td>\n",
       "      <td>no-cc</td>\n",
       "      <td>OBJECTIVE: This retrospective chart review des...</td>\n",
       "      <td>2001-07-04</td>\n",
       "      <td>Madani, Tariq A; Al-Ghamdi, Aisha A</td>\n",
       "      <td>BMC Infect Dis</td>\n",
       "      <td>NaN</td>\n",
       "      <td>NaN</td>\n",
       "      <td>NaN</td>\n",
       "      <td>document_parses/pdf_json/d1aafb70c066a2068b027...</td>\n",
       "      <td>document_parses/pmc_json/PMC35282.xml.json</td>\n",
       "      <td>https://www.ncbi.nlm.nih.gov/pmc/articles/PMC3...</td>\n",
       "      <td>NaN</td>\n",
       "    </tr>\n",
       "    <tr>\n",
       "      <th>1</th>\n",
       "      <td>02tnwd4m</td>\n",
       "      <td>6b0567729c2143a66d737eb0a2f63f2dce2e5a7d</td>\n",
       "      <td>PMC</td>\n",
       "      <td>Nitric oxide: a pro-inflammatory mediator in l...</td>\n",
       "      <td>10.1186/rr14</td>\n",
       "      <td>PMC59543</td>\n",
       "      <td>11667967</td>\n",
       "      <td>no-cc</td>\n",
       "      <td>Inflammatory diseases of the respiratory tract...</td>\n",
       "      <td>2000-08-15</td>\n",
       "      <td>Vliet, Albert van der; Eiserich, Jason P; Cros...</td>\n",
       "      <td>Respir Res</td>\n",
       "      <td>NaN</td>\n",
       "      <td>NaN</td>\n",
       "      <td>NaN</td>\n",
       "      <td>document_parses/pdf_json/6b0567729c2143a66d737...</td>\n",
       "      <td>document_parses/pmc_json/PMC59543.xml.json</td>\n",
       "      <td>https://www.ncbi.nlm.nih.gov/pmc/articles/PMC5...</td>\n",
       "      <td>NaN</td>\n",
       "    </tr>\n",
       "    <tr>\n",
       "      <th>2</th>\n",
       "      <td>ejv2xln0</td>\n",
       "      <td>06ced00a5fc04215949aa72528f2eeaae1d58927</td>\n",
       "      <td>PMC</td>\n",
       "      <td>Surfactant protein-D and pulmonary host defense</td>\n",
       "      <td>10.1186/rr19</td>\n",
       "      <td>PMC59549</td>\n",
       "      <td>11667972</td>\n",
       "      <td>no-cc</td>\n",
       "      <td>Surfactant protein-D (SP-D) participates in th...</td>\n",
       "      <td>2000-08-25</td>\n",
       "      <td>Crouch, Erika C</td>\n",
       "      <td>Respir Res</td>\n",
       "      <td>NaN</td>\n",
       "      <td>NaN</td>\n",
       "      <td>NaN</td>\n",
       "      <td>document_parses/pdf_json/06ced00a5fc04215949aa...</td>\n",
       "      <td>document_parses/pmc_json/PMC59549.xml.json</td>\n",
       "      <td>https://www.ncbi.nlm.nih.gov/pmc/articles/PMC5...</td>\n",
       "      <td>NaN</td>\n",
       "    </tr>\n",
       "  </tbody>\n",
       "</table>\n",
       "</div>"
      ],
      "text/plain": [
       "   cord_uid                                       sha source_x  \\\n",
       "0  ug7v899j  d1aafb70c066a2068b02786f8929fd9c900897fb      PMC   \n",
       "1  02tnwd4m  6b0567729c2143a66d737eb0a2f63f2dce2e5a7d      PMC   \n",
       "2  ejv2xln0  06ced00a5fc04215949aa72528f2eeaae1d58927      PMC   \n",
       "\n",
       "                                               title                    doi  \\\n",
       "0  Clinical features of culture-proven Mycoplasma...  10.1186/1471-2334-1-6   \n",
       "1  Nitric oxide: a pro-inflammatory mediator in l...           10.1186/rr14   \n",
       "2    Surfactant protein-D and pulmonary host defense           10.1186/rr19   \n",
       "\n",
       "      pmcid pubmed_id license  \\\n",
       "0  PMC35282  11472636   no-cc   \n",
       "1  PMC59543  11667967   no-cc   \n",
       "2  PMC59549  11667972   no-cc   \n",
       "\n",
       "                                            abstract publish_time  \\\n",
       "0  OBJECTIVE: This retrospective chart review des...   2001-07-04   \n",
       "1  Inflammatory diseases of the respiratory tract...   2000-08-15   \n",
       "2  Surfactant protein-D (SP-D) participates in th...   2000-08-25   \n",
       "\n",
       "                                             authors         journal  mag_id  \\\n",
       "0                Madani, Tariq A; Al-Ghamdi, Aisha A  BMC Infect Dis     NaN   \n",
       "1  Vliet, Albert van der; Eiserich, Jason P; Cros...      Respir Res     NaN   \n",
       "2                                    Crouch, Erika C      Respir Res     NaN   \n",
       "\n",
       "  who_covidence_id arxiv_id  \\\n",
       "0              NaN      NaN   \n",
       "1              NaN      NaN   \n",
       "2              NaN      NaN   \n",
       "\n",
       "                                      pdf_json_files  \\\n",
       "0  document_parses/pdf_json/d1aafb70c066a2068b027...   \n",
       "1  document_parses/pdf_json/6b0567729c2143a66d737...   \n",
       "2  document_parses/pdf_json/06ced00a5fc04215949aa...   \n",
       "\n",
       "                               pmc_json_files  \\\n",
       "0  document_parses/pmc_json/PMC35282.xml.json   \n",
       "1  document_parses/pmc_json/PMC59543.xml.json   \n",
       "2  document_parses/pmc_json/PMC59549.xml.json   \n",
       "\n",
       "                                                 url  s2_id  \n",
       "0  https://www.ncbi.nlm.nih.gov/pmc/articles/PMC3...    NaN  \n",
       "1  https://www.ncbi.nlm.nih.gov/pmc/articles/PMC5...    NaN  \n",
       "2  https://www.ncbi.nlm.nih.gov/pmc/articles/PMC5...    NaN  "
      ]
     },
     "execution_count": 3,
     "metadata": {},
     "output_type": "execute_result"
    }
   ],
   "source": [
    "pd.read_csv(path).head(3)"
   ]
  },
  {
   "cell_type": "code",
   "execution_count": 4,
   "metadata": {},
   "outputs": [
    {
     "name": "stderr",
     "output_type": "stream",
     "text": [
      "C:\\Users\\berl03\\Anaconda3\\lib\\site-packages\\IPython\\core\\interactiveshell.py:3444: DtypeWarning: Columns (1,4,5,6,13,14,15,16) have mixed types.Specify dtype option on import or set low_memory=False.\n",
      "  exec(code_obj, self.user_global_ns, self.user_ns)\n"
     ]
    },
    {
     "name": "stdout",
     "output_type": "stream",
     "text": [
      "Number of all articles before cleaning and filtering (are duplicated across sources): 992921\n",
      "Number of articles of unique doi :598587\n",
      "Number of articles of unique doi with not null abstracts:484124\n",
      "Number of articles of unique doi with len of abstract > 10:483781\n"
     ]
    }
   ],
   "source": [
    "df_all = pd.read_csv(path)\n",
    "df_all['Year'] = pd.DatetimeIndex(df_all['publish_time']).year\n",
    "df_all['Month'] = pd.DatetimeIndex(df_all['publish_time']).month\n",
    "df_all = df_all[[\"Year\",\"Month\",\"abstract\",\"doi\",\"cord_uid\",\"journal\",\"license\",\"authors\"]]\n",
    "print(\"Number of all articles before cleaning and filtering (are duplicated across sources): \"+str(len(df_all)))\n",
    "\n",
    "df_all = df_all.drop_duplicates(\"doi\")\n",
    "print(\"Number of articles of unique doi :\" + str(len(df_all)))\n",
    "\n",
    "df_all = df_all[pd.notnull(df_all['abstract'])]\n",
    "print(\"Number of articles of unique doi with not null abstracts:\" + str(len(df_all)))\n",
    "\n",
    "df_all['len'] =df_all['abstract'].map(len)\n",
    "df_all = df_all[df_all['len']>10]\n",
    "print(\"Number of articles of unique doi with len of abstract > 10:\" + str(len(df_all)))"
   ]
  },
  {
   "cell_type": "markdown",
   "metadata": {},
   "source": [
    "## Language detection"
   ]
  },
  {
   "cell_type": "code",
   "execution_count": 5,
   "metadata": {},
   "outputs": [
    {
     "name": "stderr",
     "output_type": "stream",
     "text": [
      "Warning : `load_model` does not return WordVectorModel or SupervisedModel any more, but a `FastText` object which is very similar.\n"
     ]
    }
   ],
   "source": [
    "import fasttext\n",
    "\n",
    "# Načtení předtrénovaného modelu pro detekci jazyka\n",
    "model = fasttext.load_model('sources/lid.176.bin')  # stáhni model z https://fasttext.cc/docs/en/language-identification.html\n",
    "\n",
    "def detector(text):\n",
    "    result = model.predict(text, k=1)\n",
    "    lang = result[0][0].split('__')[-1]  # Extrahuj jazyk z výstupu modelu\n",
    "    return lang"
   ]
  },
  {
   "cell_type": "code",
   "execution_count": 6,
   "metadata": {},
   "outputs": [],
   "source": [
    "df_all['language'] = df_all['abstract'].apply(detector)"
   ]
  },
  {
   "cell_type": "code",
   "execution_count": 7,
   "metadata": {},
   "outputs": [
    {
     "data": {
      "text/plain": [
       "en     477237\n",
       "fr       1465\n",
       "es       1137\n",
       "de       1080\n",
       "id       1025\n",
       "pt        845\n",
       "nl        363\n",
       "it        153\n",
       "tr        123\n",
       "zh        122\n",
       "hu         77\n",
       "ru         60\n",
       "pl         28\n",
       "sv          8\n",
       "cs          8\n",
       "he          6\n",
       "hr          5\n",
       "uk          5\n",
       "ja          4\n",
       "ca          3\n",
       "no          3\n",
       "ar          3\n",
       "ro          3\n",
       "sk          2\n",
       "sl          2\n",
       "ko          2\n",
       "sr          2\n",
       "fi          2\n",
       "tl          1\n",
       "ceb         1\n",
       "el          1\n",
       "ur          1\n",
       "lt          1\n",
       "da          1\n",
       "az          1\n",
       "bg          1\n",
       "Name: language, dtype: int64"
      ]
     },
     "execution_count": 7,
     "metadata": {},
     "output_type": "execute_result"
    }
   ],
   "source": [
    "df_all[\"language\"].value_counts()"
   ]
  },
  {
   "cell_type": "code",
   "execution_count": 8,
   "metadata": {},
   "outputs": [
    {
     "data": {
      "text/plain": [
       "<AxesSubplot:>"
      ]
     },
     "execution_count": 8,
     "metadata": {},
     "output_type": "execute_result"
    },
    {
     "data": {
      "image/png": "[encoded data removed]",
      "text/plain": [
       "<Figure size 432x288 with 1 Axes>"
      ]
     },
     "metadata": {
      "needs_background": "light"
     },
     "output_type": "display_data"
    }
   ],
   "source": [
    "df_all[\"language\"].value_counts().plot(kind=\"bar\")"
   ]
  },
  {
   "cell_type": "markdown",
   "metadata": {},
   "source": [
    "### Unfilter articles which are not english "
   ]
  },
  {
   "cell_type": "code",
   "execution_count": 9,
   "metadata": {},
   "outputs": [],
   "source": [
    "df_all = df_all[df_all[\"language\"]==\"en\"]"
   ]
  },
  {
   "cell_type": "code",
   "execution_count": 10,
   "metadata": {},
   "outputs": [
    {
     "data": {
      "text/plain": [
       "477237"
      ]
     },
     "execution_count": 10,
     "metadata": {},
     "output_type": "execute_result"
    }
   ],
   "source": [
    "len(df_all)"
   ]
  },
  {
   "cell_type": "markdown",
   "metadata": {},
   "source": [
    "#  TExt cleaning \n"
   ]
  },
  {
   "cell_type": "markdown",
   "metadata": {},
   "source": [
    "**Text cleaning steps**:\n",
    "- Removed puctions except / and – (which are often used to connect words) / and – replaced with „“\n",
    "- Converted to lower case\n",
    "- Removed rare words (which are in less then 5 articles) \n",
    "- Removed some predefined stop words\n",
    "- deleted single numbers (not of len = 4 – dont want to delte years)\n",
    "- Lemmatization (convert the word into root word)"
   ]
  },
  {
   "cell_type": "markdown",
   "metadata": {},
   "source": [
    "### Create functions for removing punctions, stopwords and lemmatization"
   ]
  },
  {
   "cell_type": "code",
   "execution_count": 11,
   "metadata": {},
   "outputs": [],
   "source": [
    "def remove_punc_lower(text):   \n",
    "    ## clean (convert to lowercase and remove punctuations and characters and then strip)\n",
    "    # I dont want to remove dash, because dash is connection between words!\n",
    "    remove = string.punctuation\n",
    "    remove = remove.replace(\"-\", \"\")     \n",
    "    remove = remove.replace(\"/\", \"\")\n",
    "    pattern = r\"[{}]\".format(remove)\n",
    "    text = re.sub(pattern, \"\", str(text).lower().strip())    \n",
    "    return text"
   ]
  },
  {
   "cell_type": "code",
   "execution_count": 12,
   "metadata": {},
   "outputs": [],
   "source": [
    "def remove_punc_from_list(string):\n",
    "    punc = '''!()-[]{};:'\"\\, <>./?@#$%^&*_~'''\n",
    "    for ele in string:  \n",
    "        if ele in punc:  \n",
    "            string = string.replace(ele, \"\") \n",
    "    return string"
   ]
  },
  {
   "cell_type": "code",
   "execution_count": 13,
   "metadata": {},
   "outputs": [],
   "source": [
    "def lemm(text):\n",
    "    lst_text = text.split()\n",
    "    lem = nltk.stem.wordnet.WordNetLemmatizer()    \n",
    "    lst_text = [lem.lemmatize(word) for word in lst_text]\n",
    "    text = \" \".join(lst_text)  \n",
    "    return text"
   ]
  },
  {
   "cell_type": "code",
   "execution_count": 14,
   "metadata": {},
   "outputs": [],
   "source": [
    "def delete_numbers(text):\n",
    "    lst_text = text.split()\n",
    "    lst_text = [word for word in lst_text if not (word.isdecimal()==True) & (len(word)!=4 ) ]\n",
    "    text = \" \".join(lst_text)\n",
    "    return text"
   ]
  },
  {
   "cell_type": "markdown",
   "metadata": {},
   "source": [
    "### Remove punction and convert to lower"
   ]
  },
  {
   "cell_type": "code",
   "execution_count": 15,
   "metadata": {},
   "outputs": [
    {
     "name": "stdout",
     "output_type": "stream",
     "text": [
      "Wall time: 9.7 s\n"
     ]
    }
   ],
   "source": [
    "%%time\n",
    "df_all[\"abstract_cleaned\"] = df_all[\"abstract\"].astype(str).apply(lambda x: remove_punc_lower(x))"
   ]
  },
  {
   "cell_type": "markdown",
   "metadata": {},
   "source": [
    "### Create list of removing words"
   ]
  },
  {
   "cell_type": "code",
   "execution_count": 16,
   "metadata": {},
   "outputs": [
    {
     "name": "stdout",
     "output_type": "stream",
     "text": [
      "Number of all words is :1124781\n",
      "from original abstracts of number of articles: 477237\n",
      "Number of all words after removing rare words (contained below 5 articles) :100000\n",
      "Then after removing stopwords: 99907\n",
      "Wall time: 3min 19s\n"
     ]
    }
   ],
   "source": [
    "%%time\n",
    "\n",
    "corpus = df_all.abstract_cleaned.values\n",
    "\n",
    "dataset = [d.split() for d in corpus]\n",
    "dct = Dictionary(dataset)\n",
    "print(\"Number of all words is :\" + str(len(dct) ))\n",
    "print(\"from original abstracts of number of articles: \" + str(len(df_all)))\n",
    "\n",
    "dct.filter_extremes(no_below=5)                 \n",
    "print(\"Number of all words after removing rare words (contained below 5 articles) :\" + str(len(dct) ))\n",
    "\n",
    "# dont remove negative from stopwords (it can have importance)\n",
    "stop_words = stopwords.words('english')\n",
    "remove_from_stopwords = [\"against\",\"don't\",\"no\",\"not\",\"aren't\",\"didn't\",\"doesn't\",\"needn't\",\"isn't\",\"wasn't\",\"weren't\",\"wouldn't\"]\n",
    "stop_words = [ x for x in stop_words if x is not remove_from_stopwords]\n",
    "stop_words.extend([\"abstract\",\"background\",\"objective\"])\n",
    "stop_words = [remove_punc_from_list(i) for i in stop_words]\n",
    "\n",
    "list_keep_words = list(dct.itervalues())\n",
    "list_keep_words = list(set(list_keep_words) ^ set(stop_words))\n",
    "print(\"Then after removing stopwords: \"+ str(len(list_keep_words)))\n",
    "\n",
    "list_removed_words = list(set(list(Dictionary(dataset).itervalues())) ^ set(list_keep_words))\n",
    "list_removed_words.extend(stop_words)"
   ]
  },
  {
   "cell_type": "code",
   "execution_count": 17,
   "metadata": {},
   "outputs": [
    {
     "data": {
      "text/plain": [
       "1025092"
      ]
     },
     "execution_count": 17,
     "metadata": {},
     "output_type": "execute_result"
    }
   ],
   "source": [
    "len(list_removed_words)"
   ]
  },
  {
   "cell_type": "code",
   "execution_count": 18,
   "metadata": {},
   "outputs": [
    {
     "name": "stdout",
     "output_type": "stream",
     "text": [
      "Wall time: 20.8 s\n"
     ]
    }
   ],
   "source": [
    "%%time\n",
    "cache = set(list_removed_words)\n",
    "df_all[\"abstract_cleaned\"]  = df_all['abstract_cleaned'].apply(lambda x: ' '.join([word for word in x.split() if word not in cache]))"
   ]
  },
  {
   "cell_type": "markdown",
   "metadata": {},
   "source": [
    "### Lematizzer"
   ]
  },
  {
   "cell_type": "code",
   "execution_count": 19,
   "metadata": {},
   "outputs": [
    {
     "name": "stdout",
     "output_type": "stream",
     "text": [
      "Wall time: 3min 30s\n"
     ]
    }
   ],
   "source": [
    "%%time\n",
    "df_all[\"abstract_cleaned\"] = df_all[\"abstract_cleaned\"].astype(str).apply(lambda x: lemm(x))"
   ]
  },
  {
   "cell_type": "code",
   "execution_count": 20,
   "metadata": {
    "scrolled": false
   },
   "outputs": [
    {
     "name": "stdout",
     "output_type": "stream",
     "text": [
      "Wall time: 12.8 s\n"
     ]
    }
   ],
   "source": [
    "%%time\n",
    "df_all[\"abstract_cleaned\"]  = df_all['abstract_cleaned'].apply(lambda x: ' '.join([word for word in x.split() if word not in cache]))"
   ]
  },
  {
   "cell_type": "markdown",
   "metadata": {},
   "source": [
    "### Delete numbers"
   ]
  },
  {
   "cell_type": "code",
   "execution_count": 21,
   "metadata": {},
   "outputs": [],
   "source": [
    "df_all[\"abstract_cleaned\"] = df_all[\"abstract_cleaned\"].astype(str).apply(lambda x: delete_numbers(x))"
   ]
  },
  {
   "cell_type": "markdown",
   "metadata": {},
   "source": [
    "### Some examples for checking:"
   ]
  },
  {
   "cell_type": "code",
   "execution_count": 22,
   "metadata": {},
   "outputs": [
    {
     "name": "stdout",
     "output_type": "stream",
     "text": [
      "[['Inflammatory diseases of the respiratory tract are commonly associated with elevated production of nitric oxide (NO•) and increased indices of NO• -dependent oxidative stress. Although NO• is known to have anti-microbial, anti-inflammatory and anti-oxidant properties, various lines of evidence support the contribution of NO• to lung injury in several disease models. On the basis of biochemical evidence, it is often presumed that such NO• -dependent oxidations are due to the formation of the oxidant peroxynitrite, although alternative mechanisms involving the phagocyte-derived heme proteins myeloperoxidase and eosinophil peroxidase might be operative during conditions of inflammation. Because of the overwhelming literature on NO• generation and activities in the respiratory tract, it would be beyond the scope of this commentary to review this area comprehensively. Instead, it focuses on recent evidence and concepts of the presumed contribution of NO• to inflammatory diseases of the lung.'\n",
      "  'inflammatory disease respiratory tract commonly associated elevated production nitric oxide increased index -dependent oxidative stress although known anti-microbial anti-inflammatory anti-oxidant property various line evidence support contribution lung injury several disease model basis biochemical evidence often presumed -dependent oxidation due formation oxidant peroxynitrite although alternative mechanism involving heme protein myeloperoxidase eosinophil peroxidase might operative condition inflammation overwhelming literature generation activity respiratory tract would beyond scope commentary review area comprehensively instead focus recent evidence concept presumed contribution inflammatory disease lung']]\n"
     ]
    }
   ],
   "source": [
    "print(df_all[['abstract',\"abstract_cleaned\"]][1:2].values)"
   ]
  },
  {
   "cell_type": "code",
   "execution_count": 23,
   "metadata": {},
   "outputs": [
    {
     "name": "stdout",
     "output_type": "stream",
     "text": [
      "[['Endothelin-1 (ET-1) is a 21 amino acid peptide with diverse biological activity that has been implicated in numerous diseases. ET-1 is a potent mitogen regulator of smooth muscle tone, and inflammatory mediator that may play a key role in diseases of the airways, pulmonary circulation, and inflammatory lung diseases, both acute and chronic. This review will focus on the biology of ET-1 and its role in lung disease.'\n",
      "  'endothelin-1 et-1 amino acid peptide diverse biological activity implicated numerous disease et-1 potent mitogen regulator smooth muscle tone inflammatory mediator may play key role disease airway pulmonary circulation inflammatory lung disease acute chronic review focus biology et-1 role lung disease']]\n"
     ]
    }
   ],
   "source": [
    "print(df_all[['abstract',\"abstract_cleaned\"]][3:4].values)"
   ]
  },
  {
   "cell_type": "code",
   "execution_count": 24,
   "metadata": {},
   "outputs": [
    {
     "name": "stdout",
     "output_type": "stream",
     "text": [
      "[['This report describes the design and implementation of the Real-time Outbreak and Disease Surveillance (RODS) system, a computer-based public health surveillance system for early detection of disease outbreaks. Hospitals send RODS data from clinical encounters over virtual private networks and leased lines using the Health Level 7 (HL7) message protocol. The data are sent in real time. RODS automatically classifies the registration chief complaint from the visit into one of seven syndrome categories using Bayesian classifiers. It stores the data in a relational database, aggregates the data for analysis using data warehousing techniques, applies univariate and multivariate statistical detection algorithms to the data, and alerts users of when the algorithms identify anomalous patterns in the syndrome counts. RODS also has a Web-based user interface that supports temporal and spatial analyses. RODS processes sales of over-the-counter health care products in a similar manner but receives such data in batch mode on a daily basis. RODS was used during the 2002 Winter Olympics and currently operates in two states—Pennsylvania and Utah. It has been and continues to be a resource for implementing, evaluating, and applying new methods of public health surveillance.'\n",
      "  'report describes design implementation real-time outbreak disease surveillance rod system computer-based public health surveillance system early detection disease outbreak hospital send rod data clinical encounter virtual private network line using health level hl7 message protocol data sent real time rod automatically classifies registration chief complaint visit one seven syndrome category using bayesian classifier store data relational database aggregate data analysis using data warehousing technique applies univariate multivariate statistical detection algorithm data alert user algorithm identify anomalous pattern syndrome count rod also web-based user interface support temporal spatial analysis rod process sale over-the-counter health care product similar manner receives data batch mode daily basis rod used 2002 winter olympics currently operates two utah continues resource implementing evaluating applying new method public health surveillance']]\n"
     ]
    }
   ],
   "source": [
    "print(df_all[['abstract',\"abstract_cleaned\"]][9:10].values)"
   ]
  },
  {
   "cell_type": "code",
   "execution_count": 25,
   "metadata": {},
   "outputs": [
    {
     "name": "stdout",
     "output_type": "stream",
     "text": [
      "[['Horizontal DNA transfer is an important factor of evolution and participates in biological diversity. Unfortunately, the location and length of horizontal transfers (HTs) are known for very few species. The usage of short oligonucleotides in a sequence (the so-called genomic signature) has been shown to be species-specific even in DNA fragments as short as 1 kb. The genomic signature is therefore proposed as a tool to detect HTs. Since DNA transfers originate from species with a signature different from those of the recipient species, the analysis of local variations of signature along recipient genome may allow for detecting exogenous DNA. The strategy consists in (i) scanning the genome with a sliding window, and calculating the corresponding local signature (ii) evaluating its deviation from the signature of the whole genome and (iii) looking for similar signatures in a database of genomic signatures. A total of 22 prokaryote genomes are analyzed in this way. It has been observed that atypical regions make up ∼6% of each genome on the average. Most of the claimed HTs as well as new ones are detected. The origin of putative DNA transfers is looked for among ∼12 000 species. Donor species are proposed and sometimes strongly suggested, considering similarity of signatures. Among the species studied, Bacillus subtilis, Haemophilus Influenzae and Escherichia coli are investigated by many authors and give the opportunity to perform a thorough comparison of most of the bioinformatics methods used to detect HTs.'\n",
      "  'horizontal dna transfer important factor evolution participates biological diversity unfortunately location length horizontal transfer hts known specie usage short oligonucleotides sequence so-called genomic signature shown species-specific even dna fragment short kb genomic signature therefore proposed tool detect hts since dna transfer originate specie signature different recipient specie analysis local variation signature along recipient genome may allow detecting exogenous dna strategy consists scanning genome sliding window calculating corresponding local signature ii evaluating deviation signature whole genome iii looking similar signature database genomic signature total prokaryote genome analyzed way observed atypical region make ∼6 genome average claimed hts well new one detected origin putative dna transfer looked among ∼12 specie donor specie proposed sometimes strongly suggested considering similarity signature among specie studied bacillus subtilis haemophilus influenzae escherichia coli investigated many author give opportunity perform thorough comparison bioinformatics method used detect hts']]\n"
     ]
    }
   ],
   "source": [
    "print(df_all[['abstract',\"abstract_cleaned\"]][21:22].values)"
   ]
  },
  {
   "cell_type": "code",
   "execution_count": 26,
   "metadata": {},
   "outputs": [
    {
     "name": "stdout",
     "output_type": "stream",
     "text": [
      "Number of words after cleaning: 91229\n"
     ]
    }
   ],
   "source": [
    "corpus = df_all.abstract_cleaned.values\n",
    "dataset = [d.split() for d in corpus]\n",
    "dct = Dictionary(dataset)\n",
    "print(\"Number of words after cleaning: \"+str(len(dct)))"
   ]
  },
  {
   "cell_type": "markdown",
   "metadata": {},
   "source": [
    "# FInal export"
   ]
  },
  {
   "cell_type": "code",
   "execution_count": 27,
   "metadata": {},
   "outputs": [],
   "source": [
    "df_all['len'] = df_all['abstract_cleaned'].astype(str).map(len)\n",
    "df_final_cleaned = df_all[df_all['len']>20]"
   ]
  },
  {
   "cell_type": "code",
   "execution_count": 28,
   "metadata": {},
   "outputs": [
    {
     "name": "stdout",
     "output_type": "stream",
     "text": [
      "Number of articles of cleaned abstracts with len of abstract > 20:476175\n"
     ]
    }
   ],
   "source": [
    "print(\"Number of articles of cleaned abstracts with len of abstract > 20:\" + str(len(df_final_cleaned)))"
   ]
  },
  {
   "cell_type": "code",
   "execution_count": 29,
   "metadata": {},
   "outputs": [],
   "source": [
    "df_final_cleaned.to_csv(\"outputs/df_sw_tok_low_punc_lemm_v7.csv\")"
   ]
  },
  {
   "cell_type": "code",
   "execution_count": 30,
   "metadata": {},
   "outputs": [],
   "source": [
    "df_all = pd.read_csv(\"outputs/df_sw_tok_low_punc_lemm_v7.csv\")"
   ]
  },
  {
   "cell_type": "code",
   "execution_count": 31,
   "metadata": {},
   "outputs": [
    {
     "data": {
      "text/html": [
       "<div>\n",
       "<style scoped>\n",
       "    .dataframe tbody tr th:only-of-type {\n",
       "        vertical-align: middle;\n",
       "    }\n",
       "\n",
       "    .dataframe tbody tr th {\n",
       "        vertical-align: top;\n",
       "    }\n",
       "\n",
       "    .dataframe thead th {\n",
       "        text-align: right;\n",
       "    }\n",
       "</style>\n",
       "<table border=\"1\" class=\"dataframe\">\n",
       "  <thead>\n",
       "    <tr style=\"text-align: right;\">\n",
       "      <th></th>\n",
       "      <th>Unnamed: 0</th>\n",
       "      <th>Year</th>\n",
       "      <th>Month</th>\n",
       "      <th>abstract</th>\n",
       "      <th>doi</th>\n",
       "      <th>cord_uid</th>\n",
       "      <th>journal</th>\n",
       "      <th>license</th>\n",
       "      <th>authors</th>\n",
       "      <th>len</th>\n",
       "      <th>language</th>\n",
       "      <th>abstract_cleaned</th>\n",
       "    </tr>\n",
       "  </thead>\n",
       "  <tbody>\n",
       "    <tr>\n",
       "      <th>0</th>\n",
       "      <td>0</td>\n",
       "      <td>2001.0</td>\n",
       "      <td>7.0</td>\n",
       "      <td>OBJECTIVE: This retrospective chart review des...</td>\n",
       "      <td>10.1186/1471-2334-1-6</td>\n",
       "      <td>ug7v899j</td>\n",
       "      <td>BMC Infect Dis</td>\n",
       "      <td>no-cc</td>\n",
       "      <td>Madani, Tariq A; Al-Ghamdi, Aisha A</td>\n",
       "      <td>1158</td>\n",
       "      <td>en</td>\n",
       "      <td>retrospective chart review describes epidemiol...</td>\n",
       "    </tr>\n",
       "    <tr>\n",
       "      <th>1</th>\n",
       "      <td>1</td>\n",
       "      <td>2000.0</td>\n",
       "      <td>8.0</td>\n",
       "      <td>Inflammatory diseases of the respiratory tract...</td>\n",
       "      <td>10.1186/rr14</td>\n",
       "      <td>02tnwd4m</td>\n",
       "      <td>Respir Res</td>\n",
       "      <td>no-cc</td>\n",
       "      <td>Vliet, Albert van der; Eiserich, Jason P; Cros...</td>\n",
       "      <td>718</td>\n",
       "      <td>en</td>\n",
       "      <td>inflammatory disease respiratory tract commonl...</td>\n",
       "    </tr>\n",
       "    <tr>\n",
       "      <th>2</th>\n",
       "      <td>2</td>\n",
       "      <td>2000.0</td>\n",
       "      <td>8.0</td>\n",
       "      <td>Surfactant protein-D (SP-D) participates in th...</td>\n",
       "      <td>10.1186/rr19</td>\n",
       "      <td>ejv2xln0</td>\n",
       "      <td>Respir Res</td>\n",
       "      <td>no-cc</td>\n",
       "      <td>Crouch, Erika C</td>\n",
       "      <td>1228</td>\n",
       "      <td>en</td>\n",
       "      <td>surfactant sp-d participates innate response i...</td>\n",
       "    </tr>\n",
       "    <tr>\n",
       "      <th>3</th>\n",
       "      <td>3</td>\n",
       "      <td>2001.0</td>\n",
       "      <td>2.0</td>\n",
       "      <td>Endothelin-1 (ET-1) is a 21 amino acid peptide...</td>\n",
       "      <td>10.1186/rr44</td>\n",
       "      <td>2b73a28n</td>\n",
       "      <td>Respir Res</td>\n",
       "      <td>no-cc</td>\n",
       "      <td>Fagan, Karen A; McMurtry, Ivan F; Rodman, David M</td>\n",
       "      <td>302</td>\n",
       "      <td>en</td>\n",
       "      <td>endothelin-1 et-1 amino acid peptide diverse b...</td>\n",
       "    </tr>\n",
       "    <tr>\n",
       "      <th>4</th>\n",
       "      <td>4</td>\n",
       "      <td>2001.0</td>\n",
       "      <td>5.0</td>\n",
       "      <td>Respiratory syncytial virus (RSV) and pneumoni...</td>\n",
       "      <td>10.1186/rr61</td>\n",
       "      <td>9785vg6d</td>\n",
       "      <td>Respir Res</td>\n",
       "      <td>no-cc</td>\n",
       "      <td>Domachowske, Joseph B; Bonville, Cynthia A; Ro...</td>\n",
       "      <td>656</td>\n",
       "      <td>en</td>\n",
       "      <td>respiratory syncytial virus rsv pneumonia viru...</td>\n",
       "    </tr>\n",
       "    <tr>\n",
       "      <th>...</th>\n",
       "      <td>...</td>\n",
       "      <td>...</td>\n",
       "      <td>...</td>\n",
       "      <td>...</td>\n",
       "      <td>...</td>\n",
       "      <td>...</td>\n",
       "      <td>...</td>\n",
       "      <td>...</td>\n",
       "      <td>...</td>\n",
       "      <td>...</td>\n",
       "      <td>...</td>\n",
       "      <td>...</td>\n",
       "    </tr>\n",
       "    <tr>\n",
       "      <th>476170</th>\n",
       "      <td>992915</td>\n",
       "      <td>2020.0</td>\n",
       "      <td>8.0</td>\n",
       "      <td>In the near future, the overlap of Coronavirus...</td>\n",
       "      <td>10.1590/0074-02760200225</td>\n",
       "      <td>wmolf5lk</td>\n",
       "      <td>Mem Inst Oswaldo Cruz</td>\n",
       "      <td>cc-by</td>\n",
       "      <td>Spinicci, Michele; Bartoloni, Alessandro; Mant...</td>\n",
       "      <td>516</td>\n",
       "      <td>en</td>\n",
       "      <td>near future overlap coronavirus disease 2019 c...</td>\n",
       "    </tr>\n",
       "    <tr>\n",
       "      <th>476171</th>\n",
       "      <td>992916</td>\n",
       "      <td>2022.0</td>\n",
       "      <td>2.0</td>\n",
       "      <td>Community-based exercise programs for older ad...</td>\n",
       "      <td>10.1007/s40520-022-02079-y</td>\n",
       "      <td>dl1nyd1x</td>\n",
       "      <td>Aging Clin Exp Res</td>\n",
       "      <td>cc-by</td>\n",
       "      <td>Fien, Samantha; Linton, Corey; Mitchell, Jules...</td>\n",
       "      <td>1276</td>\n",
       "      <td>en</td>\n",
       "      <td>community-based exercise program older adult p...</td>\n",
       "    </tr>\n",
       "    <tr>\n",
       "      <th>476172</th>\n",
       "      <td>992917</td>\n",
       "      <td>2020.0</td>\n",
       "      <td>10.0</td>\n",
       "      <td>BACKGROUND: Coronavirus disease 2019 (COVID-19...</td>\n",
       "      <td>10.1093/ckj/sfaa199</td>\n",
       "      <td>bxi27jib</td>\n",
       "      <td>Clin Kidney J</td>\n",
       "      <td>cc-by-nc</td>\n",
       "      <td>Lano, Guillaume; Braconnier, Antoine; Bataille...</td>\n",
       "      <td>1120</td>\n",
       "      <td>en</td>\n",
       "      <td>coronavirus disease 2019 covid-19 emerging inf...</td>\n",
       "    </tr>\n",
       "    <tr>\n",
       "      <th>476173</th>\n",
       "      <td>992919</td>\n",
       "      <td>2020.0</td>\n",
       "      <td>3.0</td>\n",
       "      <td>We conducted a comparative study of COVID-19 e...</td>\n",
       "      <td>10.1101/2020.03.09.20033464</td>\n",
       "      <td>z7r45291</td>\n",
       "      <td>NaN</td>\n",
       "      <td>medrxiv</td>\n",
       "      <td>Tang, Biao; Xia, Fan; Bragazzi, Nicola Luigi; ...</td>\n",
       "      <td>1234</td>\n",
       "      <td>en</td>\n",
       "      <td>conducted comparative study covid-19 epidemic ...</td>\n",
       "    </tr>\n",
       "    <tr>\n",
       "      <th>476174</th>\n",
       "      <td>992920</td>\n",
       "      <td>2021.0</td>\n",
       "      <td>4.0</td>\n",
       "      <td>Disease progression prediction and therapeutic...</td>\n",
       "      <td>10.1038/s41392-021-00508-4</td>\n",
       "      <td>7tmxgkzk</td>\n",
       "      <td>Signal Transduct Target Ther</td>\n",
       "      <td>cc-by</td>\n",
       "      <td>Li, Yuming; Hou, Guixue; Zhou, Haibo; Wang, Ya...</td>\n",
       "      <td>841</td>\n",
       "      <td>en</td>\n",
       "      <td>disease progression prediction therapeutic dru...</td>\n",
       "    </tr>\n",
       "  </tbody>\n",
       "</table>\n",
       "<p>476175 rows × 12 columns</p>\n",
       "</div>"
      ],
      "text/plain": [
       "        Unnamed: 0    Year  Month  \\\n",
       "0                0  2001.0    7.0   \n",
       "1                1  2000.0    8.0   \n",
       "2                2  2000.0    8.0   \n",
       "3                3  2001.0    2.0   \n",
       "4                4  2001.0    5.0   \n",
       "...            ...     ...    ...   \n",
       "476170      992915  2020.0    8.0   \n",
       "476171      992916  2022.0    2.0   \n",
       "476172      992917  2020.0   10.0   \n",
       "476173      992919  2020.0    3.0   \n",
       "476174      992920  2021.0    4.0   \n",
       "\n",
       "                                                 abstract  \\\n",
       "0       OBJECTIVE: This retrospective chart review des...   \n",
       "1       Inflammatory diseases of the respiratory tract...   \n",
       "2       Surfactant protein-D (SP-D) participates in th...   \n",
       "3       Endothelin-1 (ET-1) is a 21 amino acid peptide...   \n",
       "4       Respiratory syncytial virus (RSV) and pneumoni...   \n",
       "...                                                   ...   \n",
       "476170  In the near future, the overlap of Coronavirus...   \n",
       "476171  Community-based exercise programs for older ad...   \n",
       "476172  BACKGROUND: Coronavirus disease 2019 (COVID-19...   \n",
       "476173  We conducted a comparative study of COVID-19 e...   \n",
       "476174  Disease progression prediction and therapeutic...   \n",
       "\n",
       "                                doi  cord_uid                       journal  \\\n",
       "0             10.1186/1471-2334-1-6  ug7v899j                BMC Infect Dis   \n",
       "1                      10.1186/rr14  02tnwd4m                    Respir Res   \n",
       "2                      10.1186/rr19  ejv2xln0                    Respir Res   \n",
       "3                      10.1186/rr44  2b73a28n                    Respir Res   \n",
       "4                      10.1186/rr61  9785vg6d                    Respir Res   \n",
       "...                             ...       ...                           ...   \n",
       "476170     10.1590/0074-02760200225  wmolf5lk         Mem Inst Oswaldo Cruz   \n",
       "476171   10.1007/s40520-022-02079-y  dl1nyd1x            Aging Clin Exp Res   \n",
       "476172          10.1093/ckj/sfaa199  bxi27jib                 Clin Kidney J   \n",
       "476173  10.1101/2020.03.09.20033464  z7r45291                           NaN   \n",
       "476174   10.1038/s41392-021-00508-4  7tmxgkzk  Signal Transduct Target Ther   \n",
       "\n",
       "         license                                            authors   len  \\\n",
       "0          no-cc                Madani, Tariq A; Al-Ghamdi, Aisha A  1158   \n",
       "1          no-cc  Vliet, Albert van der; Eiserich, Jason P; Cros...   718   \n",
       "2          no-cc                                    Crouch, Erika C  1228   \n",
       "3          no-cc  Fagan, Karen A; McMurtry, Ivan F; Rodman, David M   302   \n",
       "4          no-cc  Domachowske, Joseph B; Bonville, Cynthia A; Ro...   656   \n",
       "...          ...                                                ...   ...   \n",
       "476170     cc-by  Spinicci, Michele; Bartoloni, Alessandro; Mant...   516   \n",
       "476171     cc-by  Fien, Samantha; Linton, Corey; Mitchell, Jules...  1276   \n",
       "476172  cc-by-nc  Lano, Guillaume; Braconnier, Antoine; Bataille...  1120   \n",
       "476173   medrxiv  Tang, Biao; Xia, Fan; Bragazzi, Nicola Luigi; ...  1234   \n",
       "476174     cc-by  Li, Yuming; Hou, Guixue; Zhou, Haibo; Wang, Ya...   841   \n",
       "\n",
       "       language                                   abstract_cleaned  \n",
       "0            en  retrospective chart review describes epidemiol...  \n",
       "1            en  inflammatory disease respiratory tract commonl...  \n",
       "2            en  surfactant sp-d participates innate response i...  \n",
       "3            en  endothelin-1 et-1 amino acid peptide diverse b...  \n",
       "4            en  respiratory syncytial virus rsv pneumonia viru...  \n",
       "...         ...                                                ...  \n",
       "476170       en  near future overlap coronavirus disease 2019 c...  \n",
       "476171       en  community-based exercise program older adult p...  \n",
       "476172       en  coronavirus disease 2019 covid-19 emerging inf...  \n",
       "476173       en  conducted comparative study covid-19 epidemic ...  \n",
       "476174       en  disease progression prediction therapeutic dru...  \n",
       "\n",
       "[476175 rows x 12 columns]"
      ]
     },
     "execution_count": 31,
     "metadata": {},
     "output_type": "execute_result"
    }
   ],
   "source": [
    "df_all"
   ]
  }
 ],
 "metadata": {
  "kernelspec": {
   "display_name": "Python 3 (ipykernel)",
   "language": "python",
   "name": "python3"
  },
  "language_info": {
   "codemirror_mode": {
    "name": "ipython",
    "version": 3
   },
   "file_extension": ".py",
   "mimetype": "text/x-python",
   "name": "python",
   "nbconvert_exporter": "python",
   "pygments_lexer": "ipython3",
   "version": "3.9.7"
  }
 },
 "nbformat": 4,
 "nbformat_minor": 4
}
