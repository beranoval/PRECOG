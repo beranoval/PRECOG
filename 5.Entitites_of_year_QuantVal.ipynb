{
 "cells": [
  {
   "cell_type": "code",
   "execution_count": 1,
   "metadata": {},
   "outputs": [],
   "source": [
    "%load_ext autoreload\n",
    "%autoreload 2"
   ]
  },
  {
   "cell_type": "code",
   "execution_count": 2,
   "metadata": {},
   "outputs": [
    {
     "name": "stdout",
     "output_type": "stream",
     "text": [
      "4.1.2\n"
     ]
    }
   ],
   "source": [
    "import pandas as pd\n",
    "import seaborn as sns\n",
    "import matplotlib.pyplot as plt\n",
    "import pickle\n",
    "import gensim\n",
    "from gensim.models import Word2Vec\n",
    "import gensim.downloader as api\n",
    "from gensim.models import KeyedVectors\n",
    "from gensim.parsing.preprocessing import strip_punctuation\n",
    "print((gensim.__version__))  # needed 3.8.3   -> pip install gensim==3.8.3\n",
    "from sklearn.linear_model import LogisticRegression\n",
    "import functions\n",
    "import re\n",
    "import numpy as np\n",
    "np.random.seed(42)"
   ]
  },
  {
   "cell_type": "code",
   "execution_count": 3,
   "metadata": {},
   "outputs": [],
   "source": [
    "import warnings\n",
    "warnings.filterwarnings('ignore')"
   ]
  },
  {
   "cell_type": "code",
   "execution_count": 4,
   "metadata": {},
   "outputs": [],
   "source": [
    "train_year = 2020"
   ]
  },
  {
   "cell_type": "code",
   "execution_count": 5,
   "metadata": {},
   "outputs": [],
   "source": [
    "df_all = pd.read_csv(\"outputs/df_sw_tok_low_punc_lemm_v7.csv\").rename(columns = {'doi_x':'doi'})\n",
    "\n",
    "lreg_w2v_avg = pickle.load(open('outputs/classifier/train_'+str(train_year)+'/'+'lreg_w2v_avg_'+str(train_year)+'.sav', 'rb'))\n",
    "model_w2v = gensim.models.Word2Vec.load(\"outputs/w2v/w2v_published_between_\"+str(train_year-1) + \" and \"+ str(train_year)+\".model\")\n",
    "\n",
    "lreg_bow =  pickle.load(open('outputs/classifier/train_'+str(train_year)+'/'+'lreg_bow_'+str(train_year)+'.sav', 'rb'))\n",
    "with open('outputs/classifier/train_'+str(train_year)+'/'+'tokens_bow_'+str(train_year)+'.data', 'rb') as filehandle:\n",
    "    tokens_bow = pickle.load(filehandle)"
   ]
  },
  {
   "cell_type": "markdown",
   "metadata": {},
   "source": [
    "# Test year citations - 2021"
   ]
  },
  {
   "cell_type": "code",
   "execution_count": 6,
   "metadata": {},
   "outputs": [
    {
     "name": "stderr",
     "output_type": "stream",
     "text": [
      "b'Skipping line 171761: expected 5 fields, saw 8\\nSkipping line 208878: expected 5 fields, saw 8\\n'\n"
     ]
    },
    {
     "name": "stdout",
     "output_type": "stream",
     "text": [
      "0    22317\n",
      "1    17775\n",
      "Name: target, dtype: int64\n"
     ]
    }
   ],
   "source": [
    "test_year = 2020\n",
    "df_with_target = functions.add_target_opencitatins_marginal(target_year = test_year,df = df_all,target_col_name=\"target\")"
   ]
  },
  {
   "cell_type": "markdown",
   "metadata": {},
   "source": [
    "## FI BOW "
   ]
  },
  {
   "cell_type": "code",
   "execution_count": 7,
   "metadata": {},
   "outputs": [
    {
     "name": "stderr",
     "output_type": "stream",
     "text": [
      "100%|████████████████████████████████████████████████████████████████████████████████| 200/200 [10:25<00:00,  3.13s/it]\n"
     ]
    },
    {
     "data": {
      "image/png": "[encoded data removed]",
      "text/plain": [
       "<Figure size 432x288 with 1 Axes>"
      ]
     },
     "metadata": {
      "needs_background": "light"
     },
     "output_type": "display_data"
    }
   ],
   "source": [
    "feature_importance_odds = functions.importance_lr_bow(tokens_bow,lreg_bow,n=100,odds_ratio = False)\n",
    "words_lr_bow_odds = functions.word_score_info(list(feature_importance_odds.word.values), feature_importance_odds, df_with_target,df_all,add_dois = True)\n",
    "significant_point = len(df_with_target[df_with_target[\"target\"]==1])/len(df_with_target)\n",
    "\n",
    "words_lr_bow_odds = words_lr_bow_odds[words_lr_bow_odds[\"cnt_of_articles_with_targ\"]>5]\n",
    "x1 = words_lr_bow_odds[\"score\"]\n",
    "y1 = words_lr_bow_odds[\"%_of_high_cit\"]\n",
    "\n",
    "%matplotlib inline\n",
    "bottom = 0.05\n",
    "height = 0.6\n",
    "width = 0.5\n",
    "left1, left2, left3, left4 = 0.06, 0.6, 2 - 0.5 - 0.5, 2 - 0.06 - 0.5\n",
    "rectangle1 = [left1, bottom, width, height]\n",
    "ax1 = plt.axes(rectangle1)\n",
    "corr_value1 = round(np.corrcoef(x1.fillna(0).values, y1.fillna(0).values)[0, 1],2)\n",
    "ax1.scatter(x1, y1, color = 'k', alpha=0.5)\n",
    "ax1.axhline(y=significant_point, color='r', linestyle='-')\n",
    "ax1.set_ylim([0, 1])\n",
    "ax1.set_ylabel(\"ActImpact (w)\",fontsize = 13)\n",
    "ax1.tick_params(axis='both', which='major', labelsize=11)\n",
    "ax1.set_xlabel(\"Score (w) of LR-BOW\",fontsize = 13)\n",
    "ax1.annotate(\"Corr = \"+str(corr_value1), xy=(0.3, 1),xytext=(0.4, 0.85),fontsize = 12)\n",
    "plt.savefig(\"outputs/corr/lr_bow.pdf\", bbox_inches='tight')"
   ]
  },
  {
   "cell_type": "markdown",
   "metadata": {},
   "source": [
    "## Importance of lreg w2v"
   ]
  },
  {
   "cell_type": "code",
   "execution_count": 8,
   "metadata": {
    "scrolled": true
   },
   "outputs": [
    {
     "name": "stdout",
     "output_type": "stream",
     "text": [
      "64754\n",
      "82402\n"
     ]
    },
    {
     "name": "stderr",
     "output_type": "stream",
     "text": [
      "100%|████████████████████████████████████████████████████████████████████████████████| 200/200 [07:29<00:00,  2.25s/it]\n"
     ]
    }
   ],
   "source": [
    "#### words from articles for which have information about target (citations)\n",
    "df_with_target['abstract_tokenized'] = functions.tokenized_column(df_with_target.reset_index()[\"abstract_cleaned\"])\n",
    "words_list_with_target = list(set([a for b in df_with_target.reset_index()['abstract_tokenized'] for a in b]))\n",
    "print(len(words_list_with_target))\n",
    "\n",
    "#### words of word2vec model dictionary trained on whole kaggle corpus\n",
    "words = model_w2v.wv.key_to_index.keys()\n",
    "we_dict = {word:model_w2v.wv[word] for word in words}\n",
    "words_list_total = pd.DataFrame(we_dict.items())\n",
    "print(len(words_list_total))\n",
    "\n",
    "\n",
    "n=100\n",
    "score_of_word_lr_avg_2 =  functions.score_of_word(model_w2v,lreg_w2v_avg).sort_values(by = [\"score\"], ascending=False).iloc[[*range(n),*range(-n,0)]]\n",
    "words_lr_avg_w2v = functions.word_score_info(list(score_of_word_lr_avg_2.word.values), score_of_word_lr_avg_2, df_with_target,df_all,add_dois = True)\n",
    "#words_lr_avg_w2v.to_csv('outputs/classifier/train_'+str(train_year)+'/'+'FI_LR_W2V_200_with_info.csv')\n",
    "#functions.score_of_word(model_w2v,lreg_w2v_avg).sort_values(by = [\"score\"], ascending=False).to_csv('outputs/classifier/train_'+str(train_year)+'/'+'FI_LR_W2V.csv')"
   ]
  },
  {
   "cell_type": "code",
   "execution_count": 9,
   "metadata": {},
   "outputs": [
    {
     "data": {
      "image/png": "[encoded data removed]",
      "text/plain": [
       "<Figure size 432x288 with 1 Axes>"
      ]
     },
     "metadata": {
      "needs_background": "light"
     },
     "output_type": "display_data"
    }
   ],
   "source": [
    "#words_lr_avg_w2v = pd.read_csv('outputs/classifier/train_'+str(train_year)+'/'+'FI_LR_W2V_200_with_info.csv')\n",
    "words_lr_avg_w2v=words_lr_avg_w2v[words_lr_avg_w2v[\"cnt_of_articles_with_targ\"]>5][[\"%_of_high_cit\",\"score\"]]\n",
    "\n",
    "x1 = words_lr_avg_w2v[\"score\"]\n",
    "y1 = words_lr_avg_w2v[\"%_of_high_cit\"]\n",
    "\n",
    "bottom = 0.05\n",
    "height = 0.6\n",
    "width = 0.5\n",
    "\n",
    "left1, left2, left3, left4 = 0.06, 0.6, 2 - 0.5 - 0.5, 2 - 0.06 - 0.5\n",
    "rectangle1 = [left1, bottom, width, height]\n",
    "ax1 = plt.axes(rectangle1)\n",
    "\n",
    "corr_value1 = round(np.corrcoef(x1.fillna(0).values, y1.fillna(0).values)[0, 1],2)\n",
    "ax1.scatter(x1, y1, color = 'k', alpha=0.5)\n",
    "ax1.axhline(y=significant_point, color='r', linestyle='-')\n",
    "ax1.set_ylim([0, 1])\n",
    "ax1.set_ylabel(\"ActImpact (w)\",fontsize = 13)\n",
    "ax1.tick_params(axis='both', which='major', labelsize=11)\n",
    "ax1.set_xlabel(\"Score (w) of LR-W2v\",fontsize = 13)\n",
    "ax1.annotate(\"Corr = \"+str(corr_value1), xy=(0.3, 1),xytext=(0.4, 0.85),fontsize = 12)\n",
    "\n",
    "plt.savefig(\"outputs/corr/lr_w2v.pdf\", bbox_inches='tight')"
   ]
  },
  {
   "cell_type": "markdown",
   "metadata": {},
   "source": [
    "# Test year citations - 2021"
   ]
  },
  {
   "cell_type": "code",
   "execution_count": 10,
   "metadata": {},
   "outputs": [
    {
     "name": "stderr",
     "output_type": "stream",
     "text": [
      "b'Skipping line 171761: expected 5 fields, saw 8\\nSkipping line 208878: expected 5 fields, saw 8\\n'\n"
     ]
    },
    {
     "name": "stdout",
     "output_type": "stream",
     "text": [
      "0    8576\n",
      "1    4996\n",
      "Name: target, dtype: int64\n"
     ]
    }
   ],
   "source": [
    "test_year = 2021\n",
    "df_with_target = functions.add_target_opencitatins_marginal(target_year = test_year,df = df_all,target_col_name=\"target\")"
   ]
  },
  {
   "cell_type": "markdown",
   "metadata": {},
   "source": [
    "## LR-BOW"
   ]
  },
  {
   "cell_type": "code",
   "execution_count": 11,
   "metadata": {},
   "outputs": [
    {
     "name": "stderr",
     "output_type": "stream",
     "text": [
      "100%|████████████████████████████████████████████████████████████████████████████████| 200/200 [06:23<00:00,  1.92s/it]\n"
     ]
    },
    {
     "data": {
      "image/png": "[encoded data removed]",
      "text/plain": [
       "<Figure size 432x288 with 1 Axes>"
      ]
     },
     "metadata": {
      "needs_background": "light"
     },
     "output_type": "display_data"
    }
   ],
   "source": [
    "feature_importance_odds = functions.importance_lr_bow(tokens_bow,lreg_bow,n=100,odds_ratio = False)\n",
    "words_lr_bow_odds = functions.word_score_info(list(feature_importance_odds.word.values), feature_importance_odds, df_with_target,df_all,add_dois = True)\n",
    "significant_point = len(df_with_target[df_with_target[\"target\"]==1])/len(df_with_target)\n",
    "\n",
    "words_lr_bow_odds = words_lr_bow_odds[words_lr_bow_odds[\"cnt_of_articles_with_targ\"]>5]\n",
    "x1 = words_lr_bow_odds[\"score\"]\n",
    "y1 = words_lr_bow_odds[\"%_of_high_cit\"]\n",
    "\n",
    "%matplotlib inline\n",
    "bottom = 0.05\n",
    "height = 0.6\n",
    "width = 0.5\n",
    "left1, left2, left3, left4 = 0.06, 0.6, 2 - 0.5 - 0.5, 2 - 0.06 - 0.5\n",
    "rectangle1 = [left1, bottom, width, height]\n",
    "ax1 = plt.axes(rectangle1)\n",
    "corr_value1 = round(np.corrcoef(x1.fillna(0).values, y1.fillna(0).values)[0, 1],2)\n",
    "ax1.scatter(x1, y1, color = 'k', alpha=0.5)\n",
    "ax1.axhline(y=significant_point, color='r', linestyle='-')\n",
    "ax1.set_ylim([0, 1])\n",
    "ax1.set_ylabel(\"ActImpact (w)\",fontsize = 13)\n",
    "ax1.tick_params(axis='both', which='major', labelsize=11)\n",
    "ax1.set_xlabel(\"Score (w) of LR-BOW\",fontsize = 13)\n",
    "ax1.annotate(\"Corr = \"+str(corr_value1), xy=(0.3, 1),xytext=(0.4, 0.85),fontsize = 12)\n",
    "plt.savefig(\"outputs/corr/lr_bow_2021.pdf\", bbox_inches='tight')"
   ]
  },
  {
   "cell_type": "markdown",
   "metadata": {},
   "source": [
    "## LR-W2V"
   ]
  },
  {
   "cell_type": "code",
   "execution_count": 12,
   "metadata": {},
   "outputs": [
    {
     "name": "stdout",
     "output_type": "stream",
     "text": [
      "43510\n",
      "82402\n"
     ]
    },
    {
     "name": "stderr",
     "output_type": "stream",
     "text": [
      "100%|████████████████████████████████████████████████████████████████████████████████| 200/200 [06:16<00:00,  1.88s/it]\n"
     ]
    }
   ],
   "source": [
    "#### words from articles for which have information about target (citations)\n",
    "df_with_target['abstract_tokenized'] = functions.tokenized_column(df_with_target.reset_index()[\"abstract_cleaned\"])\n",
    "words_list_with_target = list(set([a for b in df_with_target.reset_index()['abstract_tokenized'] for a in b]))\n",
    "print(len(words_list_with_target))\n",
    "\n",
    "#### words of word2vec model dictionary trained on whole kaggle corpus\n",
    "words = model_w2v.wv.key_to_index.keys()\n",
    "we_dict = {word:model_w2v.wv[word] for word in words}\n",
    "words_list_total = pd.DataFrame(we_dict.items())\n",
    "print(len(words_list_total))\n",
    "\n",
    "\n",
    "n=100\n",
    "score_of_word_lr_avg_2 =  functions.score_of_word(model_w2v,lreg_w2v_avg).sort_values(by = [\"score\"], ascending=False).iloc[[*range(n),*range(-n,0)]]\n",
    "words_lr_avg_w2v = functions.word_score_info(list(score_of_word_lr_avg_2.word.values), score_of_word_lr_avg_2, df_with_target,df_all,add_dois = True)\n",
    "#words_lr_avg_w2v.to_csv('outputs/classifier/train_'+str(train_year)+'/'+'FI_LR_W2V_200_with_info.csv')\n",
    "#functions.score_of_word(model_w2v,lreg_w2v_avg).sort_values(by = [\"score\"], ascending=False).to_csv('outputs/classifier/train_'+str(train_year)+'/'+'FI_LR_W2V.csv')"
   ]
  },
  {
   "cell_type": "code",
   "execution_count": 13,
   "metadata": {},
   "outputs": [
    {
     "data": {
      "image/png": "[encoded data removed]",
      "text/plain": [
       "<Figure size 432x288 with 1 Axes>"
      ]
     },
     "metadata": {
      "needs_background": "light"
     },
     "output_type": "display_data"
    }
   ],
   "source": [
    "#words_lr_avg_w2v = pd.read_csv('outputs/classifier/train_'+str(train_year)+'/'+'FI_LR_W2V_200_with_info.csv')\n",
    "words_lr_avg_w2v=words_lr_avg_w2v[words_lr_avg_w2v[\"cnt_of_articles_with_targ\"]>5][[\"%_of_high_cit\",\"score\"]]\n",
    "\n",
    "x1 = words_lr_avg_w2v[\"score\"]\n",
    "y1 = words_lr_avg_w2v[\"%_of_high_cit\"]\n",
    "\n",
    "bottom = 0.05\n",
    "height = 0.6\n",
    "width = 0.5\n",
    "\n",
    "left1, left2, left3, left4 = 0.06, 0.6, 2 - 0.5 - 0.5, 2 - 0.06 - 0.5\n",
    "rectangle1 = [left1, bottom, width, height]\n",
    "ax1 = plt.axes(rectangle1)\n",
    "\n",
    "corr_value1 = round(np.corrcoef(x1.fillna(0).values, y1.fillna(0).values)[0, 1],2)\n",
    "ax1.scatter(x1, y1, color = 'k', alpha=0.5)\n",
    "ax1.axhline(y=significant_point, color='r', linestyle='-')\n",
    "ax1.set_ylim([0, 1])\n",
    "ax1.set_ylabel(\"ActImpact (w)\",fontsize = 13)\n",
    "ax1.tick_params(axis='both', which='major', labelsize=11)\n",
    "ax1.set_xlabel(\"Score (w) of LR-W2v\",fontsize = 13)\n",
    "ax1.annotate(\"Corr = \"+str(corr_value1), xy=(0.3, 1),xytext=(0.4, 0.85),fontsize = 12)\n",
    "\n",
    "plt.savefig(\"outputs/corr/lr_w2v_2021.pdf\", bbox_inches='tight')"
   ]
  }
 ],
 "metadata": {
  "kernelspec": {
   "display_name": "Python 3 (ipykernel)",
   "language": "python",
   "name": "python3"
  },
  "language_info": {
   "codemirror_mode": {
    "name": "ipython",
    "version": 3
   },
   "file_extension": ".py",
   "mimetype": "text/x-python",
   "name": "python",
   "nbconvert_exporter": "python",
   "pygments_lexer": "ipython3",
   "version": "3.9.7"
  }
 },
 "nbformat": 4,
 "nbformat_minor": 4
}
