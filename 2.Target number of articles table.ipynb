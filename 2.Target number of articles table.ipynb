{
 "cells": [
  {
   "cell_type": "markdown",
   "metadata": {},
   "source": [
    "# Target investigation\n"
   ]
  },
  {
   "cell_type": "markdown",
   "metadata": {},
   "source": [
    "### Packages"
   ]
  },
  {
   "cell_type": "code",
   "execution_count": 1,
   "metadata": {},
   "outputs": [],
   "source": [
    "%load_ext autoreload\n",
    "%autoreload 2"
   ]
  },
  {
   "cell_type": "code",
   "execution_count": 2,
   "metadata": {},
   "outputs": [],
   "source": [
    "import functions    # my own functions which are used in more notebooks\n",
    "import pandas as pd\n",
    "#import seaborn as sns\n",
    "import matplotlib.pyplot as plt\n",
    "#import warnings\n",
    "#import numpy as np\n",
    "#import tqdm\n",
    "#import math\n",
    "#import kds\n",
    "#import pickle\n",
    "#from tqdm import tqdm\n",
    "#from scipy.sparse import csr_matrix\n",
    "#from sklearn.feature_extraction.text import CountVectorizer\n",
    "#from sklearn.linear_model import LogisticRegression\n",
    "#from sklearn.model_selection import train_test_split, GridSearchCV, RepeatedStratifiedKFold\n",
    "#import gensim\n",
    "#print((gensim.__version__))  \n",
    "#from gensim.models import Word2Vec\n",
    "#import gensim.downloader as api\n",
    "#from gensim.models import KeyedVectors\n",
    "#warnings.filterwarnings('ignore')\n",
    "#from sklearn.metrics import roc_curve, auc, roc_auc_score,classification_report, accuracy_score,precision_score,recall_score\n",
    "#from re import search\n",
    "#from sklearn.ensemble import RandomForestClassifier"
   ]
  },
  {
   "cell_type": "markdown",
   "metadata": {},
   "source": [
    "## Upload cleaned abstracts"
   ]
  },
  {
   "cell_type": "code",
   "execution_count": 60,
   "metadata": {},
   "outputs": [],
   "source": [
    "df_all = pd.read_csv(\"1.Preprocessing_outputs/df_sw_tok_low_punc_lemm_v6.csv\").rename(columns = {'doi_x':'doi'}).set_index(\"doi\")"
   ]
  },
  {
   "cell_type": "code",
   "execution_count": 61,
   "metadata": {},
   "outputs": [
    {
     "data": {
      "text/plain": [
       "483636"
      ]
     },
     "execution_count": 61,
     "metadata": {},
     "output_type": "execute_result"
    }
   ],
   "source": [
    "len(df_all)"
   ]
  },
  {
   "cell_type": "code",
   "execution_count": 62,
   "metadata": {},
   "outputs": [
    {
     "data": {
      "text/html": [
       "<div>\n",
       "<style scoped>\n",
       "    .dataframe tbody tr th:only-of-type {\n",
       "        vertical-align: middle;\n",
       "    }\n",
       "\n",
       "    .dataframe tbody tr th {\n",
       "        vertical-align: top;\n",
       "    }\n",
       "\n",
       "    .dataframe thead th {\n",
       "        text-align: right;\n",
       "    }\n",
       "</style>\n",
       "<table border=\"1\" class=\"dataframe\">\n",
       "  <thead>\n",
       "    <tr style=\"text-align: right;\">\n",
       "      <th></th>\n",
       "      <th>Unnamed: 0</th>\n",
       "      <th>Year</th>\n",
       "      <th>Month</th>\n",
       "      <th>abstract</th>\n",
       "      <th>cord_uid</th>\n",
       "      <th>len</th>\n",
       "      <th>abstract_cleaned</th>\n",
       "    </tr>\n",
       "    <tr>\n",
       "      <th>doi</th>\n",
       "      <th></th>\n",
       "      <th></th>\n",
       "      <th></th>\n",
       "      <th></th>\n",
       "      <th></th>\n",
       "      <th></th>\n",
       "      <th></th>\n",
       "    </tr>\n",
       "  </thead>\n",
       "  <tbody>\n",
       "    <tr>\n",
       "      <th>10.1186/1471-2334-1-6</th>\n",
       "      <td>0</td>\n",
       "      <td>2001.0</td>\n",
       "      <td>7.0</td>\n",
       "      <td>OBJECTIVE: This retrospective chart review des...</td>\n",
       "      <td>ug7v899j</td>\n",
       "      <td>1158</td>\n",
       "      <td>retrospective chart review describes epidemiol...</td>\n",
       "    </tr>\n",
       "    <tr>\n",
       "      <th>10.1186/rr14</th>\n",
       "      <td>1</td>\n",
       "      <td>2000.0</td>\n",
       "      <td>8.0</td>\n",
       "      <td>Inflammatory diseases of the respiratory tract...</td>\n",
       "      <td>02tnwd4m</td>\n",
       "      <td>718</td>\n",
       "      <td>inflammatory disease respiratory tract commonl...</td>\n",
       "    </tr>\n",
       "  </tbody>\n",
       "</table>\n",
       "</div>"
      ],
      "text/plain": [
       "                       Unnamed: 0    Year  Month  \\\n",
       "doi                                                \n",
       "10.1186/1471-2334-1-6           0  2001.0    7.0   \n",
       "10.1186/rr14                    1  2000.0    8.0   \n",
       "\n",
       "                                                                abstract  \\\n",
       "doi                                                                        \n",
       "10.1186/1471-2334-1-6  OBJECTIVE: This retrospective chart review des...   \n",
       "10.1186/rr14           Inflammatory diseases of the respiratory tract...   \n",
       "\n",
       "                       cord_uid   len  \\\n",
       "doi                                     \n",
       "10.1186/1471-2334-1-6  ug7v899j  1158   \n",
       "10.1186/rr14           02tnwd4m   718   \n",
       "\n",
       "                                                        abstract_cleaned  \n",
       "doi                                                                       \n",
       "10.1186/1471-2334-1-6  retrospective chart review describes epidemiol...  \n",
       "10.1186/rr14           inflammatory disease respiratory tract commonl...  "
      ]
     },
     "execution_count": 62,
     "metadata": {},
     "output_type": "execute_result"
    }
   ],
   "source": [
    "df_all.head(2)"
   ]
  },
  {
   "cell_type": "markdown",
   "metadata": {},
   "source": [
    "# Analýza"
   ]
  },
  {
   "cell_type": "code",
   "execution_count": 63,
   "metadata": {
    "scrolled": true
   },
   "outputs": [
    {
     "name": "stdout",
     "output_type": "stream",
     "text": [
      "2015\n"
     ]
    },
    {
     "name": "stderr",
     "output_type": "stream",
     "text": [
      "C:\\Users\\berl03\\AppData\\Local\\Temp/ipykernel_13980/1630723808.py:6: FutureWarning: The error_bad_lines argument has been deprecated and will be removed in a future version.\n",
      "\n",
      "\n",
      "  df_new = functions.add_target_opencitatins_marginal(target_year = year_cit,df = df_all,target_col_name = str(year_cit))\n",
      "b'Skipping line 171761: expected 5 fields, saw 8\\nSkipping line 208878: expected 5 fields, saw 8\\n'\n"
     ]
    },
    {
     "name": "stdout",
     "output_type": "stream",
     "text": [
      "0    5711\n",
      "1    4166\n",
      "Name: 2015, dtype: int64\n",
      "9877\n",
      "2016\n"
     ]
    },
    {
     "name": "stderr",
     "output_type": "stream",
     "text": [
      "b'Skipping line 171761: expected 5 fields, saw 8\\nSkipping line 208878: expected 5 fields, saw 8\\n'\n"
     ]
    },
    {
     "name": "stdout",
     "output_type": "stream",
     "text": [
      "0    6439\n",
      "1    4958\n",
      "Name: 2016, dtype: int64\n",
      "11397\n",
      "2017\n"
     ]
    },
    {
     "name": "stderr",
     "output_type": "stream",
     "text": [
      "b'Skipping line 171761: expected 5 fields, saw 8\\nSkipping line 208878: expected 5 fields, saw 8\\n'\n"
     ]
    },
    {
     "name": "stdout",
     "output_type": "stream",
     "text": [
      "0    7132\n",
      "1    5643\n",
      "Name: 2017, dtype: int64\n",
      "12775\n",
      "2018\n"
     ]
    },
    {
     "name": "stderr",
     "output_type": "stream",
     "text": [
      "b'Skipping line 171761: expected 5 fields, saw 8\\nSkipping line 208878: expected 5 fields, saw 8\\n'\n"
     ]
    },
    {
     "name": "stdout",
     "output_type": "stream",
     "text": [
      "0    7962\n",
      "1    6456\n",
      "Name: 2018, dtype: int64\n",
      "14418\n",
      "2019\n"
     ]
    },
    {
     "name": "stderr",
     "output_type": "stream",
     "text": [
      "b'Skipping line 171761: expected 5 fields, saw 8\\nSkipping line 208878: expected 5 fields, saw 8\\n'\n"
     ]
    },
    {
     "name": "stdout",
     "output_type": "stream",
     "text": [
      "0    9202\n",
      "1    7445\n",
      "Name: 2019, dtype: int64\n",
      "16647\n",
      "2020\n"
     ]
    },
    {
     "name": "stderr",
     "output_type": "stream",
     "text": [
      "b'Skipping line 171761: expected 5 fields, saw 8\\nSkipping line 208878: expected 5 fields, saw 8\\n'\n"
     ]
    },
    {
     "name": "stdout",
     "output_type": "stream",
     "text": [
      "0    22366\n",
      "1    17799\n",
      "Name: 2020, dtype: int64\n",
      "40165\n",
      "2021\n"
     ]
    },
    {
     "name": "stderr",
     "output_type": "stream",
     "text": [
      "b'Skipping line 171761: expected 5 fields, saw 8\\nSkipping line 208878: expected 5 fields, saw 8\\n'\n"
     ]
    },
    {
     "name": "stdout",
     "output_type": "stream",
     "text": [
      "0    8588\n",
      "1    5002\n",
      "Name: 2021, dtype: int64\n",
      "13590\n",
      "2022\n"
     ]
    },
    {
     "name": "stderr",
     "output_type": "stream",
     "text": [
      "b'Skipping line 171761: expected 5 fields, saw 8\\nSkipping line 208878: expected 5 fields, saw 8\\n'\n"
     ]
    },
    {
     "name": "stdout",
     "output_type": "stream",
     "text": [
      "0    20\n",
      "1     1\n",
      "Name: 2022, dtype: int64\n",
      "21\n"
     ]
    }
   ],
   "source": [
    "df_new = df_all.reset_index().copy()\n",
    "df_all = df_all.reset_index()\n",
    "\n",
    "for year_cit in list(range(2015,2023)):\n",
    "    print(year_cit)\n",
    "    df_new = functions.add_target_opencitatins_marginal(target_year = year_cit,df = df_all,target_col_name = str(year_cit))\n",
    "    df_new[str(year_cit)] = df_new[str(year_cit)]\n",
    "    df_all = df_all.merge(df_new[[\"doi\",str(year_cit)]],on=\"doi\",how=\"left\")\n",
    "    df_all[str(year_cit)] = df_all[str(year_cit)].fillna(\"empty\")"
   ]
  },
  {
   "cell_type": "code",
   "execution_count": 64,
   "metadata": {},
   "outputs": [],
   "source": [
    "df_plot = df_all[[\"Year\"] + list(map(str,list(range(2015,2023))))].set_index(\"Year\").stack().reset_index().rename({0:\"target\"},axis=1).value_counts().reset_index().rename({0:\"cnt\"},axis=1)\n",
    "\n",
    "min_publ_year = 2015\n",
    "min_cit_year  = 2017\n",
    "\n",
    "df_plot = df_plot.sort_values(\"Year\",ascending = False)\n",
    "df_plot_f = df_plot[df_plot[\"Year\"].astype(int)>=min_publ_year]\n",
    "df_plot_f = df_plot_f[df_plot_f[\"level_1\"].astype(float).astype(int)>=min_cit_year]\n",
    "df_piv = df_plot_f.pivot(index=\"Year\", columns = [\"level_1\",\"target\"],values=\"cnt\").fillna(0).round(0).astype(int).sort_index(axis=1)\n",
    "df_piv[\"Total_cnt_public_arcls\"] = df_piv[('2017',0.0)]+df_piv[('2017',1.0)]+df_piv[('2017',\"empty\")]\n",
    "del df_piv[('2017',\"empty\")]\n",
    "df_piv.loc['Total'] = df_piv.sum(numeric_only=True)\n",
    "df_piv"
   ]
  },
  {
   "cell_type": "code",
   "execution_count": 73,
   "metadata": {},
   "outputs": [
    {
     "data": {
      "text/html": [
       "<div>\n",
       "<style scoped>\n",
       "    .dataframe tbody tr th:only-of-type {\n",
       "        vertical-align: middle;\n",
       "    }\n",
       "\n",
       "    .dataframe tbody tr th {\n",
       "        vertical-align: top;\n",
       "    }\n",
       "\n",
       "    .dataframe thead tr th {\n",
       "        text-align: left;\n",
       "    }\n",
       "\n",
       "    .dataframe thead tr:last-of-type th {\n",
       "        text-align: right;\n",
       "    }\n",
       "</style>\n",
       "<table border=\"1\" class=\"dataframe\">\n",
       "  <thead>\n",
       "    <tr>\n",
       "      <th>level_1</th>\n",
       "      <th colspan=\"2\" halign=\"left\">2017</th>\n",
       "      <th colspan=\"3\" halign=\"left\">2018</th>\n",
       "      <th colspan=\"3\" halign=\"left\">2019</th>\n",
       "      <th colspan=\"3\" halign=\"left\">2020</th>\n",
       "      <th colspan=\"3\" halign=\"left\">2021</th>\n",
       "      <th colspan=\"3\" halign=\"left\">2022</th>\n",
       "      <th>Total_cnt_public_arcls</th>\n",
       "    </tr>\n",
       "    <tr>\n",
       "      <th>target</th>\n",
       "      <th>0.0</th>\n",
       "      <th>1.0</th>\n",
       "      <th>0.0</th>\n",
       "      <th>1.0</th>\n",
       "      <th>empty</th>\n",
       "      <th>0.0</th>\n",
       "      <th>1.0</th>\n",
       "      <th>empty</th>\n",
       "      <th>0.0</th>\n",
       "      <th>1.0</th>\n",
       "      <th>empty</th>\n",
       "      <th>0.0</th>\n",
       "      <th>1.0</th>\n",
       "      <th>empty</th>\n",
       "      <th>0.0</th>\n",
       "      <th>1.0</th>\n",
       "      <th>empty</th>\n",
       "      <th></th>\n",
       "    </tr>\n",
       "    <tr>\n",
       "      <th>Year</th>\n",
       "      <th></th>\n",
       "      <th></th>\n",
       "      <th></th>\n",
       "      <th></th>\n",
       "      <th></th>\n",
       "      <th></th>\n",
       "      <th></th>\n",
       "      <th></th>\n",
       "      <th></th>\n",
       "      <th></th>\n",
       "      <th></th>\n",
       "      <th></th>\n",
       "      <th></th>\n",
       "      <th></th>\n",
       "      <th></th>\n",
       "      <th></th>\n",
       "      <th></th>\n",
       "      <th></th>\n",
       "    </tr>\n",
       "  </thead>\n",
       "  <tbody>\n",
       "    <tr>\n",
       "      <th>2015.0</th>\n",
       "      <td>887</td>\n",
       "      <td>742</td>\n",
       "      <td>876</td>\n",
       "      <td>735</td>\n",
       "      <td>4623</td>\n",
       "      <td>840</td>\n",
       "      <td>767</td>\n",
       "      <td>4627</td>\n",
       "      <td>901</td>\n",
       "      <td>774</td>\n",
       "      <td>4559</td>\n",
       "      <td>289</td>\n",
       "      <td>109</td>\n",
       "      <td>5836</td>\n",
       "      <td>1</td>\n",
       "      <td>0</td>\n",
       "      <td>6233</td>\n",
       "      <td>6234</td>\n",
       "    </tr>\n",
       "    <tr>\n",
       "      <th>2016.0</th>\n",
       "      <td>962</td>\n",
       "      <td>629</td>\n",
       "      <td>903</td>\n",
       "      <td>799</td>\n",
       "      <td>4584</td>\n",
       "      <td>867</td>\n",
       "      <td>861</td>\n",
       "      <td>4558</td>\n",
       "      <td>918</td>\n",
       "      <td>871</td>\n",
       "      <td>4497</td>\n",
       "      <td>305</td>\n",
       "      <td>157</td>\n",
       "      <td>5824</td>\n",
       "      <td>2</td>\n",
       "      <td>0</td>\n",
       "      <td>6284</td>\n",
       "      <td>6286</td>\n",
       "    </tr>\n",
       "    <tr>\n",
       "      <th>2017.0</th>\n",
       "      <td>375</td>\n",
       "      <td>368</td>\n",
       "      <td>979</td>\n",
       "      <td>616</td>\n",
       "      <td>4917</td>\n",
       "      <td>894</td>\n",
       "      <td>874</td>\n",
       "      <td>4744</td>\n",
       "      <td>1057</td>\n",
       "      <td>797</td>\n",
       "      <td>4658</td>\n",
       "      <td>341</td>\n",
       "      <td>139</td>\n",
       "      <td>6032</td>\n",
       "      <td>1</td>\n",
       "      <td>1</td>\n",
       "      <td>6510</td>\n",
       "      <td>6512</td>\n",
       "    </tr>\n",
       "    <tr>\n",
       "      <th>2018.0</th>\n",
       "      <td>13</td>\n",
       "      <td>0</td>\n",
       "      <td>403</td>\n",
       "      <td>397</td>\n",
       "      <td>5812</td>\n",
       "      <td>1020</td>\n",
       "      <td>771</td>\n",
       "      <td>4821</td>\n",
       "      <td>1040</td>\n",
       "      <td>997</td>\n",
       "      <td>4575</td>\n",
       "      <td>350</td>\n",
       "      <td>167</td>\n",
       "      <td>6095</td>\n",
       "      <td>1</td>\n",
       "      <td>0</td>\n",
       "      <td>6611</td>\n",
       "      <td>6612</td>\n",
       "    </tr>\n",
       "    <tr>\n",
       "      <th>2019.0</th>\n",
       "      <td>2</td>\n",
       "      <td>1</td>\n",
       "      <td>13</td>\n",
       "      <td>1</td>\n",
       "      <td>7975</td>\n",
       "      <td>532</td>\n",
       "      <td>497</td>\n",
       "      <td>6960</td>\n",
       "      <td>1284</td>\n",
       "      <td>1248</td>\n",
       "      <td>5457</td>\n",
       "      <td>441</td>\n",
       "      <td>192</td>\n",
       "      <td>7356</td>\n",
       "      <td>0</td>\n",
       "      <td>0</td>\n",
       "      <td>7989</td>\n",
       "      <td>7989</td>\n",
       "    </tr>\n",
       "    <tr>\n",
       "      <th>2020.0</th>\n",
       "      <td>9</td>\n",
       "      <td>0</td>\n",
       "      <td>5</td>\n",
       "      <td>0</td>\n",
       "      <td>126335</td>\n",
       "      <td>120</td>\n",
       "      <td>6</td>\n",
       "      <td>126214</td>\n",
       "      <td>11955</td>\n",
       "      <td>8727</td>\n",
       "      <td>105658</td>\n",
       "      <td>5204</td>\n",
       "      <td>3458</td>\n",
       "      <td>117678</td>\n",
       "      <td>11</td>\n",
       "      <td>0</td>\n",
       "      <td>126329</td>\n",
       "      <td>126340</td>\n",
       "    </tr>\n",
       "    <tr>\n",
       "      <th>2021.0</th>\n",
       "      <td>0</td>\n",
       "      <td>0</td>\n",
       "      <td>0</td>\n",
       "      <td>0</td>\n",
       "      <td>229139</td>\n",
       "      <td>0</td>\n",
       "      <td>0</td>\n",
       "      <td>229139</td>\n",
       "      <td>53</td>\n",
       "      <td>29</td>\n",
       "      <td>229057</td>\n",
       "      <td>33</td>\n",
       "      <td>10</td>\n",
       "      <td>229096</td>\n",
       "      <td>0</td>\n",
       "      <td>0</td>\n",
       "      <td>229139</td>\n",
       "      <td>229139</td>\n",
       "    </tr>\n",
       "    <tr>\n",
       "      <th>2022.0</th>\n",
       "      <td>0</td>\n",
       "      <td>0</td>\n",
       "      <td>0</td>\n",
       "      <td>0</td>\n",
       "      <td>56884</td>\n",
       "      <td>0</td>\n",
       "      <td>0</td>\n",
       "      <td>56884</td>\n",
       "      <td>0</td>\n",
       "      <td>0</td>\n",
       "      <td>56884</td>\n",
       "      <td>0</td>\n",
       "      <td>0</td>\n",
       "      <td>56884</td>\n",
       "      <td>0</td>\n",
       "      <td>0</td>\n",
       "      <td>56884</td>\n",
       "      <td>56884</td>\n",
       "    </tr>\n",
       "    <tr>\n",
       "      <th>2023.0</th>\n",
       "      <td>0</td>\n",
       "      <td>0</td>\n",
       "      <td>0</td>\n",
       "      <td>0</td>\n",
       "      <td>1</td>\n",
       "      <td>0</td>\n",
       "      <td>0</td>\n",
       "      <td>1</td>\n",
       "      <td>0</td>\n",
       "      <td>0</td>\n",
       "      <td>1</td>\n",
       "      <td>0</td>\n",
       "      <td>0</td>\n",
       "      <td>1</td>\n",
       "      <td>0</td>\n",
       "      <td>0</td>\n",
       "      <td>1</td>\n",
       "      <td>1</td>\n",
       "    </tr>\n",
       "    <tr>\n",
       "      <th>Total</th>\n",
       "      <td>2248</td>\n",
       "      <td>1740</td>\n",
       "      <td>3179</td>\n",
       "      <td>2548</td>\n",
       "      <td>440270</td>\n",
       "      <td>4273</td>\n",
       "      <td>3776</td>\n",
       "      <td>437948</td>\n",
       "      <td>17208</td>\n",
       "      <td>13443</td>\n",
       "      <td>415346</td>\n",
       "      <td>6963</td>\n",
       "      <td>4232</td>\n",
       "      <td>434802</td>\n",
       "      <td>16</td>\n",
       "      <td>1</td>\n",
       "      <td>445980</td>\n",
       "      <td>445997</td>\n",
       "    </tr>\n",
       "  </tbody>\n",
       "</table>\n",
       "</div>"
      ],
      "text/plain": [
       "level_1  2017        2018                2019                 2020         \\\n",
       "target    0.0   1.0   0.0   1.0   empty   0.0   1.0   empty    0.0    1.0   \n",
       "Year                                                                        \n",
       "2015.0    887   742   876   735    4623   840   767    4627    901    774   \n",
       "2016.0    962   629   903   799    4584   867   861    4558    918    871   \n",
       "2017.0    375   368   979   616    4917   894   874    4744   1057    797   \n",
       "2018.0     13     0   403   397    5812  1020   771    4821   1040    997   \n",
       "2019.0      2     1    13     1    7975   532   497    6960   1284   1248   \n",
       "2020.0      9     0     5     0  126335   120     6  126214  11955   8727   \n",
       "2021.0      0     0     0     0  229139     0     0  229139     53     29   \n",
       "2022.0      0     0     0     0   56884     0     0   56884      0      0   \n",
       "2023.0      0     0     0     0       1     0     0       1      0      0   \n",
       "Total    2248  1740  3179  2548  440270  4273  3776  437948  17208  13443   \n",
       "\n",
       "level_1          2021               2022             Total_cnt_public_arcls  \n",
       "target    empty   0.0   1.0   empty  0.0 1.0   empty                         \n",
       "Year                                                                         \n",
       "2015.0     4559   289   109    5836    1   0    6233                   6234  \n",
       "2016.0     4497   305   157    5824    2   0    6284                   6286  \n",
       "2017.0     4658   341   139    6032    1   1    6510                   6512  \n",
       "2018.0     4575   350   167    6095    1   0    6611                   6612  \n",
       "2019.0     5457   441   192    7356    0   0    7989                   7989  \n",
       "2020.0   105658  5204  3458  117678   11   0  126329                 126340  \n",
       "2021.0   229057    33    10  229096    0   0  229139                 229139  \n",
       "2022.0    56884     0     0   56884    0   0   56884                  56884  \n",
       "2023.0        1     0     0       1    0   0       1                      1  \n",
       "Total    415346  6963  4232  434802   16   1  445980                 445997  "
      ]
     },
     "execution_count": 73,
     "metadata": {},
     "output_type": "execute_result"
    }
   ],
   "source": [
    "df_piv"
   ]
  },
  {
   "cell_type": "code",
   "execution_count": null,
   "metadata": {},
   "outputs": [],
   "source": []
  }
 ],
 "metadata": {
  "kernelspec": {
   "display_name": "Python 3 (ipykernel)",
   "language": "python",
   "name": "python3"
  },
  "language_info": {
   "codemirror_mode": {
    "name": "ipython",
    "version": 3
   },
   "file_extension": ".py",
   "mimetype": "text/x-python",
   "name": "python",
   "nbconvert_exporter": "python",
   "pygments_lexer": "ipython3",
   "version": "3.9.7"
  }
 },
 "nbformat": 4,
 "nbformat_minor": 4
}
