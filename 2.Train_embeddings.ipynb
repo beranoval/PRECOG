{
 "cells": [
  {
   "cell_type": "code",
   "execution_count": 1,
   "metadata": {},
   "outputs": [
    {
     "name": "stdout",
     "output_type": "stream",
     "text": [
      "4.1.2\n"
     ]
    }
   ],
   "source": [
    "import pandas as pd\n",
    "import numpy as np\n",
    "import seaborn as sns\n",
    "import matplotlib.pyplot as plt\n",
    "import string\n",
    "import re\n",
    "import gensim\n",
    "from gensim.models import Word2Vec\n",
    "from gensim.models import FastText\n",
    "import gensim.downloader as api\n",
    "print((gensim.__version__))  # needed 3.8.3   -> pip install gensim==3.8.3\n",
    "import pickle\n",
    "import time"
   ]
  },
  {
   "cell_type": "code",
   "execution_count": 2,
   "metadata": {},
   "outputs": [],
   "source": [
    "def tokenized_column(string_col\n",
    "                    ):  \n",
    "    tokenized_list=[]\n",
    "    for i in list(string_col):\n",
    "        li = list(i.split(' '))\n",
    "        tokenized_list.append(li)\n",
    "    return tokenized_list"
   ]
  },
  {
   "cell_type": "markdown",
   "metadata": {},
   "source": [
    "# EMBEDDINGS"
   ]
  },
  {
   "cell_type": "code",
   "execution_count": 3,
   "metadata": {},
   "outputs": [],
   "source": [
    "df_all = pd.read_csv(\"outputs/df_sw_tok_low_punc_lemm_v7.csv\")"
   ]
  },
  {
   "cell_type": "code",
   "execution_count": 4,
   "metadata": {},
   "outputs": [
    {
     "data": {
      "text/plain": [
       "476175"
      ]
     },
     "execution_count": 4,
     "metadata": {},
     "output_type": "execute_result"
    }
   ],
   "source": [
    "len(df_all)"
   ]
  },
  {
   "cell_type": "code",
   "execution_count": 5,
   "metadata": {},
   "outputs": [
    {
     "data": {
      "text/plain": [
       "Unnamed: 0              0\n",
       "Year                  711\n",
       "Month                 711\n",
       "abstract                0\n",
       "doi                     0\n",
       "cord_uid                0\n",
       "journal             40225\n",
       "license                 0\n",
       "authors              1986\n",
       "len                     0\n",
       "language                0\n",
       "abstract_cleaned        0\n",
       "dtype: int64"
      ]
     },
     "execution_count": 5,
     "metadata": {},
     "output_type": "execute_result"
    }
   ],
   "source": [
    "df_all.isnull().sum()"
   ]
  },
  {
   "cell_type": "markdown",
   "metadata": {},
   "source": [
    "## A) Train W2V with articles published between years"
   ]
  },
  {
   "cell_type": "code",
   "execution_count": 6,
   "metadata": {},
   "outputs": [
    {
     "name": "stdout",
     "output_type": "stream",
     "text": [
      "Training started................\n",
      "Max publ. year: 2017\n",
      "Min publ. year: 2016\n",
      "Count of articles: 12589\n",
      "Training started................\n",
      "Max publ. year: 2018\n",
      "Min publ. year: 2017\n",
      "Count of articles: 13036\n",
      "Training started................\n",
      "Max publ. year: 2019\n",
      "Min publ. year: 2018\n",
      "Count of articles: 14503\n",
      "Training started................\n",
      "Max publ. year: 2020\n",
      "Min publ. year: 2019\n",
      "Count of articles: 132422\n",
      "Training started................\n",
      "Max publ. year: 2021\n",
      "Min publ. year: 2020\n",
      "Count of articles: 350176\n"
     ]
    }
   ],
   "source": [
    "to_years = [2017,2018,2019,2020,2021]\n",
    "diff_list = [1]\n",
    "\n",
    "for diff in diff_list:\n",
    "    for to_year in to_years:\n",
    "        print(\"Training started................\")\n",
    "        print(\"Max publ. year: \"+str(to_year))\n",
    "        print(\"Min publ. year: \"+str(to_year-diff))\n",
    "        df_all_to_year = df_all[ (df_all['Year']<=to_year) & (df_all['Year']>=to_year-diff) ]\n",
    "        print(\"Count of articles: \" + str(len(df_all_to_year)))\n",
    "        model = gensim.models.word2vec.Word2Vec(tokenized_column(df_all_to_year[\"abstract_cleaned\"].astype(str)),\n",
    "                                        vector_size=100, \n",
    "                                        window = 10,\n",
    "                                        min_count=2,\n",
    "                                        sg=1,\n",
    "                                        seed=1\n",
    "                                               ) \n",
    "        model.save(\"outputs/w2v/w2v_published_between_\"+str(to_year-diff) + \" and \"+ str(to_year)+\".model\")"
   ]
  }
 ],
 "metadata": {
  "kernelspec": {
   "display_name": "Python 3 (ipykernel)",
   "language": "python",
   "name": "python3"
  },
  "language_info": {
   "codemirror_mode": {
    "name": "ipython",
    "version": 3
   },
   "file_extension": ".py",
   "mimetype": "text/x-python",
   "name": "python",
   "nbconvert_exporter": "python",
   "pygments_lexer": "ipython3",
   "version": "3.9.7"
  }
 },
 "nbformat": 4,
 "nbformat_minor": 4
}
